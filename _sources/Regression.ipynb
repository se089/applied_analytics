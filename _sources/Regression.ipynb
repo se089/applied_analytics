{
 "cells": [
  {
   "cell_type": "markdown",
   "metadata": {},
   "source": [
    "# Regression\n",
    "\n",
    "## Plan\n",
    "**Wie sollten wir unser Budget auf unsere Marketingkanäle verteilen?**\n",
    "\n",
    "Die Marketingabteilung möchte wissen, welche Marketingaktivitäten den Umsatz des Unternehmens am meisten steigert.\n",
    "\n",
    "![](../bmc_recommender.pdf)"
   ]
  },
  {
   "cell_type": "markdown",
   "metadata": {},
   "source": [
    "## Data\n",
    "Die Basis der Regressionsanalyse bildet ein Datensatz, in dem alle vergangenen Kampagnen eingetragen sind. Für jede Kampagne gibt es die Information, wie viel Geld für verschiedene Kanäle ausgegeben wurde und wie hoch die generierten Umsätze waren. Der originale Datensatz stammt von [kaggle](https://www.kaggle.com/harrimansaragih/dummy-advertising-and-sales-data).\n",
    "\n",
    "Da es sich bei dem Datensatz um einen Trainingsdatensatz kümmert, besteht er lediglich aus wenigen Variablen *(TV, Print, Social Media und Influencer)*. Zudem bestand zwischen der Variable TV und unserer Zielvariable Sales eine 1:1 Korrelation, welche in der Realität unwahrscheinlich ist. Da die Umsetzung der Use Cases jedoch nur exemplarisch durchgeführt werden sollte und es keinen anderen passenden Datensatz zum Thema gab, entschied ich mich bei diesem zu bleiben und die Spalte *TV* aus der Modellierung auszuschließen. \n",
    "\n",
    "Der vollständigen Code befindet sich [hier](Regression_Marketing.ipynb)."
   ]
  },
  {
   "cell_type": "code",
   "execution_count": 1,
   "metadata": {},
   "outputs": [],
   "source": [
    "import pandas as pd\n",
    "import numpy as np"
   ]
  },
  {
   "cell_type": "code",
   "execution_count": 2,
   "metadata": {},
   "outputs": [
    {
     "data": {
      "text/html": [
       "<div>\n",
       "<style scoped>\n",
       "    .dataframe tbody tr th:only-of-type {\n",
       "        vertical-align: middle;\n",
       "    }\n",
       "\n",
       "    .dataframe tbody tr th {\n",
       "        vertical-align: top;\n",
       "    }\n",
       "\n",
       "    .dataframe thead th {\n",
       "        text-align: right;\n",
       "    }\n",
       "</style>\n",
       "<table border=\"1\" class=\"dataframe\">\n",
       "  <thead>\n",
       "    <tr style=\"text-align: right;\">\n",
       "      <th></th>\n",
       "      <th>TV</th>\n",
       "      <th>Print</th>\n",
       "      <th>Social</th>\n",
       "      <th>Influencer</th>\n",
       "      <th>Sales</th>\n",
       "    </tr>\n",
       "  </thead>\n",
       "  <tbody>\n",
       "    <tr>\n",
       "      <th>0</th>\n",
       "      <td>16.0</td>\n",
       "      <td>6.566231</td>\n",
       "      <td>2.907983</td>\n",
       "      <td>Mega</td>\n",
       "      <td>54.732757</td>\n",
       "    </tr>\n",
       "    <tr>\n",
       "      <th>1</th>\n",
       "      <td>13.0</td>\n",
       "      <td>9.237765</td>\n",
       "      <td>2.409567</td>\n",
       "      <td>Mega</td>\n",
       "      <td>46.677897</td>\n",
       "    </tr>\n",
       "    <tr>\n",
       "      <th>2</th>\n",
       "      <td>41.0</td>\n",
       "      <td>15.886446</td>\n",
       "      <td>2.913410</td>\n",
       "      <td>Mega</td>\n",
       "      <td>150.177829</td>\n",
       "    </tr>\n",
       "    <tr>\n",
       "      <th>3</th>\n",
       "      <td>43.0</td>\n",
       "      <td>30.020028</td>\n",
       "      <td>6.922304</td>\n",
       "      <td>Mega</td>\n",
       "      <td>298.246340</td>\n",
       "    </tr>\n",
       "    <tr>\n",
       "      <th>4</th>\n",
       "      <td>15.0</td>\n",
       "      <td>8.437408</td>\n",
       "      <td>1.405998</td>\n",
       "      <td>Micro</td>\n",
       "      <td>56.594181</td>\n",
       "    </tr>\n",
       "  </tbody>\n",
       "</table>\n",
       "</div>"
      ],
      "text/plain": [
       "     TV      Print    Social Influencer       Sales\n",
       "0  16.0   6.566231  2.907983       Mega   54.732757\n",
       "1  13.0   9.237765  2.409567       Mega   46.677897\n",
       "2  41.0  15.886446  2.913410       Mega  150.177829\n",
       "3  43.0  30.020028  6.922304       Mega  298.246340\n",
       "4  15.0   8.437408  1.405998      Micro   56.594181"
      ]
     },
     "execution_count": 2,
     "metadata": {},
     "output_type": "execute_result"
    }
   ],
   "source": [
    "df = pd.read_csv('../Regression_marketing_data.csv', delimiter=',', encoding = 'unicode_escape')\n",
    "df.head()"
   ]
  },
  {
   "cell_type": "code",
   "execution_count": 3,
   "metadata": {},
   "outputs": [
    {
     "data": {
      "text/html": [
       "<div>\n",
       "<style scoped>\n",
       "    .dataframe tbody tr th:only-of-type {\n",
       "        vertical-align: middle;\n",
       "    }\n",
       "\n",
       "    .dataframe tbody tr th {\n",
       "        vertical-align: top;\n",
       "    }\n",
       "\n",
       "    .dataframe thead th {\n",
       "        text-align: right;\n",
       "    }\n",
       "</style>\n",
       "<table border=\"1\" class=\"dataframe\">\n",
       "  <thead>\n",
       "    <tr style=\"text-align: right;\">\n",
       "      <th></th>\n",
       "      <th>TV</th>\n",
       "      <th>Print</th>\n",
       "      <th>Social</th>\n",
       "      <th>Sales</th>\n",
       "    </tr>\n",
       "  </thead>\n",
       "  <tbody>\n",
       "    <tr>\n",
       "      <th>count</th>\n",
       "      <td>4545.000000</td>\n",
       "      <td>4568.000000</td>\n",
       "      <td>4566.000000</td>\n",
       "      <td>4566.000000</td>\n",
       "    </tr>\n",
       "    <tr>\n",
       "      <th>mean</th>\n",
       "      <td>53.874587</td>\n",
       "      <td>18.160356</td>\n",
       "      <td>3.323956</td>\n",
       "      <td>192.466602</td>\n",
       "    </tr>\n",
       "    <tr>\n",
       "      <th>std</th>\n",
       "      <td>26.116303</td>\n",
       "      <td>9.676958</td>\n",
       "      <td>2.212670</td>\n",
       "      <td>93.133092</td>\n",
       "    </tr>\n",
       "    <tr>\n",
       "      <th>min</th>\n",
       "      <td>1.000000</td>\n",
       "      <td>0.000684</td>\n",
       "      <td>0.000031</td>\n",
       "      <td>31.199409</td>\n",
       "    </tr>\n",
       "    <tr>\n",
       "      <th>25%</th>\n",
       "      <td>32.000000</td>\n",
       "      <td>10.525957</td>\n",
       "      <td>1.527849</td>\n",
       "      <td>112.322882</td>\n",
       "    </tr>\n",
       "    <tr>\n",
       "      <th>50%</th>\n",
       "      <td>53.000000</td>\n",
       "      <td>17.859513</td>\n",
       "      <td>3.055565</td>\n",
       "      <td>189.231172</td>\n",
       "    </tr>\n",
       "    <tr>\n",
       "      <th>75%</th>\n",
       "      <td>76.000000</td>\n",
       "      <td>25.649730</td>\n",
       "      <td>4.807558</td>\n",
       "      <td>272.507922</td>\n",
       "    </tr>\n",
       "    <tr>\n",
       "      <th>max</th>\n",
       "      <td>100.000000</td>\n",
       "      <td>48.871161</td>\n",
       "      <td>13.981662</td>\n",
       "      <td>364.079751</td>\n",
       "    </tr>\n",
       "  </tbody>\n",
       "</table>\n",
       "</div>"
      ],
      "text/plain": [
       "                TV        Print       Social        Sales\n",
       "count  4545.000000  4568.000000  4566.000000  4566.000000\n",
       "mean     53.874587    18.160356     3.323956   192.466602\n",
       "std      26.116303     9.676958     2.212670    93.133092\n",
       "min       1.000000     0.000684     0.000031    31.199409\n",
       "25%      32.000000    10.525957     1.527849   112.322882\n",
       "50%      53.000000    17.859513     3.055565   189.231172\n",
       "75%      76.000000    25.649730     4.807558   272.507922\n",
       "max     100.000000    48.871161    13.981662   364.079751"
      ]
     },
     "execution_count": 3,
     "metadata": {},
     "output_type": "execute_result"
    }
   ],
   "source": [
    "df.describe()"
   ]
  },
  {
   "cell_type": "markdown",
   "metadata": {},
   "source": [
    "## Model\n",
    "Nach dem Data-Splitting, führte ich zunächst eine explorativen Datenanalyse durch. Zudem habe ich eine weitere Variable *Total Sum* eingefügt, die die Gesamtausgaben pro Kampagne angab. Die Plots zeigten eine positive, lineare Korrelation zwischen den Featuren und unserer Zielvariablen. \n",
    "\n",
    "Anschließend erstellte ich eine Pipeline, die verschiedene Pre-Processing Schritte mit der Modellierung verband. Aufgrund der linearen Korrelation entschied ich mich zunächst für ein simples lineares Regressionsmodel mit dem Feature *Total Sum*. Dieses gab jedoch keinen Aufschluss darüber, wie das Budget auf verschiedene Marketingkanäle verteilt werden sollte. Deswegen entschied ich mich trotz des bereits guten Scores für ein weiteres multiples Regressionsmodel basierend auf den anderen Featuren. \n",
    "\n",
    "Da die Plots eine lineare Korrelation der "
   ]
  },
  {
   "cell_type": "markdown",
   "metadata": {},
   "source": [
    "## Evaluation"
   ]
  }
 ],
 "metadata": {
  "kernelspec": {
   "display_name": "Python 3",
   "language": "python",
   "name": "python3"
  },
  "language_info": {
   "codemirror_mode": {
    "name": "ipython",
    "version": 3
   },
   "file_extension": ".py",
   "mimetype": "text/x-python",
   "name": "python",
   "nbconvert_exporter": "python",
   "pygments_lexer": "ipython3",
   "version": "3.7.11"
  },
  "widgets": {
   "application/vnd.jupyter.widget-state+json": {
    "state": {},
    "version_major": 2,
    "version_minor": 0
   }
  }
 },
 "nbformat": 4,
 "nbformat_minor": 4
}
