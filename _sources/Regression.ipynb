{
 "cells": [
  {
   "cell_type": "markdown",
   "metadata": {},
   "source": [
    "# Regression\n",
    "\n",
    "## Plan\n",
    "**Wie sollten wir unser Budget auf unsere Marketingkanäle verteilen?**\n",
    "\n",
    "Die Marketingabteilung möchte wissen, wie sie den resultierenden Umsatz und somit den Erfolg einer Marketingaktivität voraussagen können. Dies soll einerseits dabei helfen, dass Budget zu begründen und optimal auf verschiedene Kanäle zu verteilen. Gleichzeitig ist es aber auch eine Möglichkeit den Kampagnenerfolg zu bewerten, indem man prüft, inwieweit der tatsächliche Umsatz über bzw. unter dem prognostizierten Wert liegt.\n",
    "\n",
    "![](../bmc_recommender.pdf)"
   ]
  },
  {
   "cell_type": "markdown",
   "metadata": {},
   "source": [
    "## Data\n",
    "Die Basis der Regressionsanalyse bildet ein Datensatz, in dem das Budget und der Umsatz aller vergangenen Kampagnen eingetragen sind. Für jede Kampagne gibt es die Information, wie viel Geld pro Kanal ausgegeben wurde und wie hoch der generierte Umsatz waren. Der originale Datensatz stammt von [kaggle](https://www.kaggle.com/harrimansaragih/dummy-advertising-and-sales-data).\n",
    "\n",
    "Da es sich bei dem Original-Datensatz um einen Trainingsdatensatz handelt, besteht er nur aus wenigen Variablen *(TV, Print, Social Media und Influencer)*. Zudem besteht zwischen der Variable TV und der Zielvariable Sales eine 1:1 Korrelation, welche in der Realität unwahrscheinlich ist. Da die Umsetzung der Use Cases jedoch nur exemplarisch durchgeführt wird und ich keinen anderen passenden Datensatz zum Thema gefunden habe, entschied ich mich bei diesem zu bleiben und die Spalte *TV* aus der Modellierung auszuschließen. \n",
    "\n",
    "Der vollständige Code befindet sich [hier](Regression_Marketing.ipynb)."
   ]
  },
  {
   "cell_type": "code",
   "execution_count": 1,
   "metadata": {},
   "outputs": [],
   "source": [
    "import pandas as pd\n",
    "import numpy as np"
   ]
  },
  {
   "cell_type": "code",
   "execution_count": 2,
   "metadata": {},
   "outputs": [
    {
     "data": {
      "text/html": [
       "<div>\n",
       "<style scoped>\n",
       "    .dataframe tbody tr th:only-of-type {\n",
       "        vertical-align: middle;\n",
       "    }\n",
       "\n",
       "    .dataframe tbody tr th {\n",
       "        vertical-align: top;\n",
       "    }\n",
       "\n",
       "    .dataframe thead th {\n",
       "        text-align: right;\n",
       "    }\n",
       "</style>\n",
       "<table border=\"1\" class=\"dataframe\">\n",
       "  <thead>\n",
       "    <tr style=\"text-align: right;\">\n",
       "      <th></th>\n",
       "      <th>TV</th>\n",
       "      <th>Print</th>\n",
       "      <th>Social</th>\n",
       "      <th>Influencer</th>\n",
       "      <th>Sales</th>\n",
       "    </tr>\n",
       "  </thead>\n",
       "  <tbody>\n",
       "    <tr>\n",
       "      <th>0</th>\n",
       "      <td>16.0</td>\n",
       "      <td>6.566231</td>\n",
       "      <td>2.907983</td>\n",
       "      <td>Mega</td>\n",
       "      <td>54.732757</td>\n",
       "    </tr>\n",
       "    <tr>\n",
       "      <th>1</th>\n",
       "      <td>13.0</td>\n",
       "      <td>9.237765</td>\n",
       "      <td>2.409567</td>\n",
       "      <td>Mega</td>\n",
       "      <td>46.677897</td>\n",
       "    </tr>\n",
       "    <tr>\n",
       "      <th>2</th>\n",
       "      <td>41.0</td>\n",
       "      <td>15.886446</td>\n",
       "      <td>2.913410</td>\n",
       "      <td>Mega</td>\n",
       "      <td>150.177829</td>\n",
       "    </tr>\n",
       "    <tr>\n",
       "      <th>3</th>\n",
       "      <td>43.0</td>\n",
       "      <td>30.020028</td>\n",
       "      <td>6.922304</td>\n",
       "      <td>Mega</td>\n",
       "      <td>298.246340</td>\n",
       "    </tr>\n",
       "    <tr>\n",
       "      <th>4</th>\n",
       "      <td>15.0</td>\n",
       "      <td>8.437408</td>\n",
       "      <td>1.405998</td>\n",
       "      <td>Micro</td>\n",
       "      <td>56.594181</td>\n",
       "    </tr>\n",
       "  </tbody>\n",
       "</table>\n",
       "</div>"
      ],
      "text/plain": [
       "     TV      Print    Social Influencer       Sales\n",
       "0  16.0   6.566231  2.907983       Mega   54.732757\n",
       "1  13.0   9.237765  2.409567       Mega   46.677897\n",
       "2  41.0  15.886446  2.913410       Mega  150.177829\n",
       "3  43.0  30.020028  6.922304       Mega  298.246340\n",
       "4  15.0   8.437408  1.405998      Micro   56.594181"
      ]
     },
     "execution_count": 2,
     "metadata": {},
     "output_type": "execute_result"
    }
   ],
   "source": [
    "df = pd.read_csv('../Regression_marketing_data.csv', delimiter=',', encoding = 'unicode_escape')\n",
    "df.head()"
   ]
  },
  {
   "cell_type": "code",
   "execution_count": 3,
   "metadata": {},
   "outputs": [
    {
     "data": {
      "text/html": [
       "<div>\n",
       "<style scoped>\n",
       "    .dataframe tbody tr th:only-of-type {\n",
       "        vertical-align: middle;\n",
       "    }\n",
       "\n",
       "    .dataframe tbody tr th {\n",
       "        vertical-align: top;\n",
       "    }\n",
       "\n",
       "    .dataframe thead th {\n",
       "        text-align: right;\n",
       "    }\n",
       "</style>\n",
       "<table border=\"1\" class=\"dataframe\">\n",
       "  <thead>\n",
       "    <tr style=\"text-align: right;\">\n",
       "      <th></th>\n",
       "      <th>TV</th>\n",
       "      <th>Print</th>\n",
       "      <th>Social</th>\n",
       "      <th>Sales</th>\n",
       "    </tr>\n",
       "  </thead>\n",
       "  <tbody>\n",
       "    <tr>\n",
       "      <th>count</th>\n",
       "      <td>4545.000000</td>\n",
       "      <td>4568.000000</td>\n",
       "      <td>4566.000000</td>\n",
       "      <td>4566.000000</td>\n",
       "    </tr>\n",
       "    <tr>\n",
       "      <th>mean</th>\n",
       "      <td>53.874587</td>\n",
       "      <td>18.160356</td>\n",
       "      <td>3.323956</td>\n",
       "      <td>192.466602</td>\n",
       "    </tr>\n",
       "    <tr>\n",
       "      <th>std</th>\n",
       "      <td>26.116303</td>\n",
       "      <td>9.676958</td>\n",
       "      <td>2.212670</td>\n",
       "      <td>93.133092</td>\n",
       "    </tr>\n",
       "    <tr>\n",
       "      <th>min</th>\n",
       "      <td>1.000000</td>\n",
       "      <td>0.000684</td>\n",
       "      <td>0.000031</td>\n",
       "      <td>31.199409</td>\n",
       "    </tr>\n",
       "    <tr>\n",
       "      <th>25%</th>\n",
       "      <td>32.000000</td>\n",
       "      <td>10.525957</td>\n",
       "      <td>1.527849</td>\n",
       "      <td>112.322882</td>\n",
       "    </tr>\n",
       "    <tr>\n",
       "      <th>50%</th>\n",
       "      <td>53.000000</td>\n",
       "      <td>17.859513</td>\n",
       "      <td>3.055565</td>\n",
       "      <td>189.231172</td>\n",
       "    </tr>\n",
       "    <tr>\n",
       "      <th>75%</th>\n",
       "      <td>76.000000</td>\n",
       "      <td>25.649730</td>\n",
       "      <td>4.807558</td>\n",
       "      <td>272.507922</td>\n",
       "    </tr>\n",
       "    <tr>\n",
       "      <th>max</th>\n",
       "      <td>100.000000</td>\n",
       "      <td>48.871161</td>\n",
       "      <td>13.981662</td>\n",
       "      <td>364.079751</td>\n",
       "    </tr>\n",
       "  </tbody>\n",
       "</table>\n",
       "</div>"
      ],
      "text/plain": [
       "                TV        Print       Social        Sales\n",
       "count  4545.000000  4568.000000  4566.000000  4566.000000\n",
       "mean     53.874587    18.160356     3.323956   192.466602\n",
       "std      26.116303     9.676958     2.212670    93.133092\n",
       "min       1.000000     0.000684     0.000031    31.199409\n",
       "25%      32.000000    10.525957     1.527849   112.322882\n",
       "50%      53.000000    17.859513     3.055565   189.231172\n",
       "75%      76.000000    25.649730     4.807558   272.507922\n",
       "max     100.000000    48.871161    13.981662   364.079751"
      ]
     },
     "execution_count": 3,
     "metadata": {},
     "output_type": "execute_result"
    }
   ],
   "source": [
    "df.describe()"
   ]
  },
  {
   "cell_type": "markdown",
   "metadata": {},
   "source": [
    "## Modell\n",
    "Nach dem Data-Splitting, führe ich zunächst eine explorative Datenanalyse durch. Zudem habe ich eine weitere Variable *Total Sum* eingefügt, die die Gesamtausgaben pro Kampagne angab. Die Plots zeigen eine positive, lineare Korrelation zwischen den Features und unserer Zielvariablen. \n",
    "\n",
    "Anschließend erstelle ich eine Pipeline, die verschiedene Pre-Processing Schritte mit der Modellierung verband. Aufgrund der linearen Korrelation entscheide ich mich zunächst für ein **simples lineares Regressionsmodell** mit dem Feature *Total Sum*. Dieses gibt jedoch keinen Aufschluss darüber, wie das Budget auf verschiedene Marketingkanäle verteilt werden sollte. Deswegen entscheide ich mich trotz des bereits guten Scores für ein weiteres **multiples Regressionsmodell** basierend auf den anderen Features. Dieses erzielt einen vergleichbaren Score und berücksichtigt zudem mehrere Kanäle. Durch den Einsatz von Hyperparameter Tuning kann das Modell jedoch nicht mehr verbessert werden, was bedeutet, dass das Modell mit den Standardwerten bereits das beste Ergebnis erzielt.\n",
    "\n",
    "Um auch neuere Algorithmen auf den Datensatz anzuwenden, arbeite ich zusätzlich noch mit einer **Lasso Regression** und XGBoost. Da die Plots bereits eine deutliche Linearität der Korrelation zeigten, bringt die Lasso Regression jedoch keine weitere Verbesserung des Modells. \n",
    "\n",
    "Mit dem **XGBoost Algorithmus** kann der Score im Vergleich zu den anderen Modellen nochmal gesteigert werden, weswegen ich mich am Ende auch für dieses Modell entscheide. Der XGBoost Algorithmus kombiniert mehrere schwächere und einfache Modelle miteinander, um Vorhersagen zu treffen. Es werden so lange weitere Modelle hinzugefügt, bis sich die Vorhersage nicht mehr verbessert. Des Weiteren bietet XGBoost die Möglichkeit zu sehen, wie stark einzelne Features in das Modell eingehen. Diese Feature Importance hat gezeigt, dass insbesondere die Ausgaben für Printwerbung einen großen Einfluss auf die Vorhersage hat. Dies ist wenig überraschend, da dieses Feature auch die stärkste Korrelation mit unserer Zielvariable Sales aufzeigt.\n",
    "\n",
    "Um das Modell abschließend zu bewerten, wird es auf den **Testdatensatz** angewendet. Dort erzielt es einen vergleichbaren Score wie in der Testgruppe. Deswegen können wir davon ausgehen, dass das entwickelte Modell weder over- noch underfitted ist. Es erklärt somit 75-78% der Abweichung der Werte."
   ]
  },
  {
   "cell_type": "markdown",
   "metadata": {},
   "source": [
    "## Evaluation\n",
    "Von der Vorhersage des Absatz profitieren auch weitere Abteilungen. Zum Beispiel kann damit auch der Website Traffic für den Zeitraum von Kampagnen vorhergesagt werden, um die nötigen technischen Voraussetzungen zu treffen. Außerdem kann der Einkauf damit den Bedarf der beworbenen Produkte besser schätzen.\n",
    "\n",
    "Wichtig bei der Interpretation ist jedoch, dass es sich bei dem Datensatz nach wie vor um Testdaten handelt. Die Linearität zwischen den Variablen wird in der Realität so vermutlich nicht vorkommen. Außerdem beinhaltet der Datensatz nur sehr wenige Kanäle."
   ]
  }
 ],
 "metadata": {
  "kernelspec": {
   "display_name": "Python 3",
   "language": "python",
   "name": "python3"
  },
  "language_info": {
   "codemirror_mode": {
    "name": "ipython",
    "version": 3
   },
   "file_extension": ".py",
   "mimetype": "text/x-python",
   "name": "python",
   "nbconvert_exporter": "python",
   "pygments_lexer": "ipython3",
   "version": "3.7.11"
  },
  "widgets": {
   "application/vnd.jupyter.widget-state+json": {
    "state": {},
    "version_major": 2,
    "version_minor": 0
   }
  }
 },
 "nbformat": 4,
 "nbformat_minor": 4
}
