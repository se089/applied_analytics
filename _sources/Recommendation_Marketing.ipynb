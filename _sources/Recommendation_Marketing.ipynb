{
 "cells": [
  {
   "cell_type": "code",
   "execution_count": 2,
   "metadata": {},
   "outputs": [],
   "source": [
    "import pandas as pd\n",
    "import numpy as np\n",
    "import matplotlib.pyplot as plt\n",
    "from sklearn.decomposition import TruncatedSVD\n",
    "from sklearn.metrics.pairwise import linear_kernel\n",
    "from sklearn.feature_extraction.text import TfidfVectorizer, CountVectorizer\n",
    "from sklearn.neighbors import NearestNeighbors\n",
    "from sklearn.cluster import KMeans\n",
    "from sklearn.metrics import adjusted_rand_score"
   ]
  },
  {
   "cell_type": "markdown",
   "metadata": {},
   "source": [
    "# Code\n",
    "## Aim\n",
    "In order to boost the revenue of social media ads the marketing department wants to improve the product selection for advertisements on social media. Currently, the products are randomly selected. Therefore, we will create different recommendation systems, which should help to predict which product the user will like. The degree of personalisation depends on whether the user is already a customer and whether we can identify him as such at all. \n",
    "* For unknown users, the most popular products should be displayed.\n",
    "* For users who have already clicked on an ad, similar products should be advertised in the future. (Content-based filtering)\n",
    "* Known users should be recommended products based on their purchase history and that of similar users. (Collaborative filtering)\n",
    "\n",
    "## Data\n",
    "The dataset is from kaggle: https://www.kaggle.com/vijayuv/onlineretail. We will use the **already preprocessed data** from our clustering case. It includes the following values:\n",
    "\n",
    "* CustomerID: Customer number assigned to each customer.\n",
    "* InvoiceNo: Invoice Number assigned to each order. If this code starts with letter 'c', it indicates a cancellation.\n",
    "* StockCode: Product (item) code assigned to each product.\n",
    "* Description: Product name.\n",
    "* Quantity: Amount of each each product (item) per transaction.\n",
    "* InvoiceDate: Date, where order was made. \n",
    "* UnitPrice: Price of a single product.\n",
    "* Country: Country, where each customer resides.\n",
    "* Total Sum: Quantity * UnitPrice for each product\n",
    "* Cluster: segment of the customer\n"
   ]
  },
  {
   "cell_type": "markdown",
   "metadata": {},
   "source": [
    "# Import data"
   ]
  },
  {
   "cell_type": "code",
   "execution_count": 3,
   "metadata": {},
   "outputs": [
    {
     "name": "stdout",
     "output_type": "stream",
     "text": [
      "<class 'pandas.core.frame.DataFrame'>\n",
      "RangeIndex: 397884 entries, 0 to 397883\n",
      "Data columns (total 10 columns):\n",
      " #   Column       Non-Null Count   Dtype  \n",
      "---  ------       --------------   -----  \n",
      " 0   CustomerID   397884 non-null  int64  \n",
      " 1   InvoiceNo    397884 non-null  int64  \n",
      " 2   StockCode    397884 non-null  object \n",
      " 3   Description  397884 non-null  object \n",
      " 4   Quantity     397884 non-null  int64  \n",
      " 5   InvoiceDate  397884 non-null  object \n",
      " 6   UnitPrice    397884 non-null  float64\n",
      " 7   Country      397884 non-null  object \n",
      " 8   TotalSum     397884 non-null  float64\n",
      " 9   Cluster      336802 non-null  float64\n",
      "dtypes: float64(3), int64(3), object(4)\n",
      "memory usage: 30.4+ MB\n"
     ]
    }
   ],
   "source": [
    "df = pd.read_csv('../Recommender_Marketing.csv', delimiter=',', encoding = 'unicode_escape')\n",
    "df.info()"
   ]
  },
  {
   "cell_type": "markdown",
   "metadata": {},
   "source": [
    "## First look into the data\n",
    "The data contains 397884 rows. Each row stands for one product of an order. Orders can be grouped by InvoiceNo, customers by CustomerID and products by StockCode. As we can already see there are less entries in the Cluster column which indicates that there are missing values."
   ]
  },
  {
   "cell_type": "code",
   "execution_count": 4,
   "metadata": {},
   "outputs": [
    {
     "data": {
      "text/html": [
       "<div>\n",
       "<style scoped>\n",
       "    .dataframe tbody tr th:only-of-type {\n",
       "        vertical-align: middle;\n",
       "    }\n",
       "\n",
       "    .dataframe tbody tr th {\n",
       "        vertical-align: top;\n",
       "    }\n",
       "\n",
       "    .dataframe thead th {\n",
       "        text-align: right;\n",
       "    }\n",
       "</style>\n",
       "<table border=\"1\" class=\"dataframe\">\n",
       "  <thead>\n",
       "    <tr style=\"text-align: right;\">\n",
       "      <th></th>\n",
       "      <th>CustomerID</th>\n",
       "      <th>InvoiceNo</th>\n",
       "      <th>StockCode</th>\n",
       "      <th>Description</th>\n",
       "      <th>Quantity</th>\n",
       "      <th>InvoiceDate</th>\n",
       "      <th>UnitPrice</th>\n",
       "      <th>Country</th>\n",
       "      <th>TotalSum</th>\n",
       "      <th>Cluster</th>\n",
       "    </tr>\n",
       "  </thead>\n",
       "  <tbody>\n",
       "    <tr>\n",
       "      <th>0</th>\n",
       "      <td>12346</td>\n",
       "      <td>541431</td>\n",
       "      <td>23166</td>\n",
       "      <td>MEDIUM CERAMIC TOP STORAGE JAR</td>\n",
       "      <td>74215</td>\n",
       "      <td>2011-01-18 10:01:00</td>\n",
       "      <td>1.04</td>\n",
       "      <td>United Kingdom</td>\n",
       "      <td>77183.6</td>\n",
       "      <td>NaN</td>\n",
       "    </tr>\n",
       "    <tr>\n",
       "      <th>1</th>\n",
       "      <td>12347</td>\n",
       "      <td>537626</td>\n",
       "      <td>85116</td>\n",
       "      <td>BLACK CANDELABRA T-LIGHT HOLDER</td>\n",
       "      <td>12</td>\n",
       "      <td>2010-12-07 14:57:00</td>\n",
       "      <td>2.10</td>\n",
       "      <td>Iceland</td>\n",
       "      <td>25.2</td>\n",
       "      <td>2.0</td>\n",
       "    </tr>\n",
       "    <tr>\n",
       "      <th>2</th>\n",
       "      <td>12347</td>\n",
       "      <td>537626</td>\n",
       "      <td>22375</td>\n",
       "      <td>AIRLINE BAG VINTAGE JET SET BROWN</td>\n",
       "      <td>4</td>\n",
       "      <td>2010-12-07 14:57:00</td>\n",
       "      <td>4.25</td>\n",
       "      <td>Iceland</td>\n",
       "      <td>17.0</td>\n",
       "      <td>2.0</td>\n",
       "    </tr>\n",
       "    <tr>\n",
       "      <th>3</th>\n",
       "      <td>12347</td>\n",
       "      <td>537626</td>\n",
       "      <td>71477</td>\n",
       "      <td>COLOUR GLASS. STAR T-LIGHT HOLDER</td>\n",
       "      <td>12</td>\n",
       "      <td>2010-12-07 14:57:00</td>\n",
       "      <td>3.25</td>\n",
       "      <td>Iceland</td>\n",
       "      <td>39.0</td>\n",
       "      <td>2.0</td>\n",
       "    </tr>\n",
       "    <tr>\n",
       "      <th>4</th>\n",
       "      <td>12347</td>\n",
       "      <td>537626</td>\n",
       "      <td>22492</td>\n",
       "      <td>MINI PAINT SET VINTAGE</td>\n",
       "      <td>36</td>\n",
       "      <td>2010-12-07 14:57:00</td>\n",
       "      <td>0.65</td>\n",
       "      <td>Iceland</td>\n",
       "      <td>23.4</td>\n",
       "      <td>2.0</td>\n",
       "    </tr>\n",
       "  </tbody>\n",
       "</table>\n",
       "</div>"
      ],
      "text/plain": [
       "   CustomerID  InvoiceNo StockCode                        Description  \\\n",
       "0       12346     541431     23166     MEDIUM CERAMIC TOP STORAGE JAR   \n",
       "1       12347     537626     85116    BLACK CANDELABRA T-LIGHT HOLDER   \n",
       "2       12347     537626     22375  AIRLINE BAG VINTAGE JET SET BROWN   \n",
       "3       12347     537626     71477  COLOUR GLASS. STAR T-LIGHT HOLDER   \n",
       "4       12347     537626     22492            MINI PAINT SET VINTAGE    \n",
       "\n",
       "   Quantity          InvoiceDate  UnitPrice         Country  TotalSum  Cluster  \n",
       "0     74215  2011-01-18 10:01:00       1.04  United Kingdom   77183.6      NaN  \n",
       "1        12  2010-12-07 14:57:00       2.10         Iceland      25.2      2.0  \n",
       "2         4  2010-12-07 14:57:00       4.25         Iceland      17.0      2.0  \n",
       "3        12  2010-12-07 14:57:00       3.25         Iceland      39.0      2.0  \n",
       "4        36  2010-12-07 14:57:00       0.65         Iceland      23.4      2.0  "
      ]
     },
     "execution_count": 4,
     "metadata": {},
     "output_type": "execute_result"
    }
   ],
   "source": [
    "#first look into the data\n",
    "df.head()"
   ]
  },
  {
   "cell_type": "code",
   "execution_count": 5,
   "metadata": {},
   "outputs": [
    {
     "data": {
      "text/plain": [
       "CustomerID      4338\n",
       "InvoiceNo      18532\n",
       "StockCode       3665\n",
       "Description     3877\n",
       "Quantity         301\n",
       "InvoiceDate    17282\n",
       "UnitPrice        440\n",
       "Country           37\n",
       "TotalSum        2810\n",
       "Cluster            3\n",
       "dtype: int64"
      ]
     },
     "execution_count": 5,
     "metadata": {},
     "output_type": "execute_result"
    }
   ],
   "source": [
    "df.nunique()"
   ]
  },
  {
   "cell_type": "code",
   "execution_count": 6,
   "metadata": {},
   "outputs": [
    {
     "data": {
      "text/html": [
       "<div>\n",
       "<style scoped>\n",
       "    .dataframe tbody tr th:only-of-type {\n",
       "        vertical-align: middle;\n",
       "    }\n",
       "\n",
       "    .dataframe tbody tr th {\n",
       "        vertical-align: top;\n",
       "    }\n",
       "\n",
       "    .dataframe thead th {\n",
       "        text-align: right;\n",
       "    }\n",
       "</style>\n",
       "<table border=\"1\" class=\"dataframe\">\n",
       "  <thead>\n",
       "    <tr style=\"text-align: right;\">\n",
       "      <th></th>\n",
       "      <th>CustomerID</th>\n",
       "      <th>InvoiceNo</th>\n",
       "      <th>Quantity</th>\n",
       "      <th>UnitPrice</th>\n",
       "      <th>TotalSum</th>\n",
       "      <th>Cluster</th>\n",
       "    </tr>\n",
       "  </thead>\n",
       "  <tbody>\n",
       "    <tr>\n",
       "      <th>count</th>\n",
       "      <td>397884.000000</td>\n",
       "      <td>397884.000000</td>\n",
       "      <td>397884.000000</td>\n",
       "      <td>397884.000000</td>\n",
       "      <td>397884.000000</td>\n",
       "      <td>336802.000000</td>\n",
       "    </tr>\n",
       "    <tr>\n",
       "      <th>mean</th>\n",
       "      <td>15294.423453</td>\n",
       "      <td>560616.934451</td>\n",
       "      <td>12.988238</td>\n",
       "      <td>3.116488</td>\n",
       "      <td>22.397000</td>\n",
       "      <td>1.106371</td>\n",
       "    </tr>\n",
       "    <tr>\n",
       "      <th>std</th>\n",
       "      <td>1713.141560</td>\n",
       "      <td>13106.117773</td>\n",
       "      <td>179.331775</td>\n",
       "      <td>22.097877</td>\n",
       "      <td>309.071041</td>\n",
       "      <td>0.961927</td>\n",
       "    </tr>\n",
       "    <tr>\n",
       "      <th>min</th>\n",
       "      <td>12346.000000</td>\n",
       "      <td>536365.000000</td>\n",
       "      <td>1.000000</td>\n",
       "      <td>0.001000</td>\n",
       "      <td>0.001000</td>\n",
       "      <td>0.000000</td>\n",
       "    </tr>\n",
       "    <tr>\n",
       "      <th>25%</th>\n",
       "      <td>13969.000000</td>\n",
       "      <td>549234.000000</td>\n",
       "      <td>2.000000</td>\n",
       "      <td>1.250000</td>\n",
       "      <td>4.680000</td>\n",
       "      <td>0.000000</td>\n",
       "    </tr>\n",
       "    <tr>\n",
       "      <th>50%</th>\n",
       "      <td>15159.000000</td>\n",
       "      <td>561893.000000</td>\n",
       "      <td>6.000000</td>\n",
       "      <td>1.950000</td>\n",
       "      <td>11.800000</td>\n",
       "      <td>2.000000</td>\n",
       "    </tr>\n",
       "    <tr>\n",
       "      <th>75%</th>\n",
       "      <td>16795.000000</td>\n",
       "      <td>572090.000000</td>\n",
       "      <td>12.000000</td>\n",
       "      <td>3.750000</td>\n",
       "      <td>19.800000</td>\n",
       "      <td>2.000000</td>\n",
       "    </tr>\n",
       "    <tr>\n",
       "      <th>max</th>\n",
       "      <td>18287.000000</td>\n",
       "      <td>581587.000000</td>\n",
       "      <td>80995.000000</td>\n",
       "      <td>8142.750000</td>\n",
       "      <td>168469.600000</td>\n",
       "      <td>2.000000</td>\n",
       "    </tr>\n",
       "  </tbody>\n",
       "</table>\n",
       "</div>"
      ],
      "text/plain": [
       "          CustomerID      InvoiceNo       Quantity      UnitPrice  \\\n",
       "count  397884.000000  397884.000000  397884.000000  397884.000000   \n",
       "mean    15294.423453  560616.934451      12.988238       3.116488   \n",
       "std      1713.141560   13106.117773     179.331775      22.097877   \n",
       "min     12346.000000  536365.000000       1.000000       0.001000   \n",
       "25%     13969.000000  549234.000000       2.000000       1.250000   \n",
       "50%     15159.000000  561893.000000       6.000000       1.950000   \n",
       "75%     16795.000000  572090.000000      12.000000       3.750000   \n",
       "max     18287.000000  581587.000000   80995.000000    8142.750000   \n",
       "\n",
       "            TotalSum        Cluster  \n",
       "count  397884.000000  336802.000000  \n",
       "mean       22.397000       1.106371  \n",
       "std       309.071041       0.961927  \n",
       "min         0.001000       0.000000  \n",
       "25%         4.680000       0.000000  \n",
       "50%        11.800000       2.000000  \n",
       "75%        19.800000       2.000000  \n",
       "max    168469.600000       2.000000  "
      ]
     },
     "execution_count": 6,
     "metadata": {},
     "output_type": "execute_result"
    }
   ],
   "source": [
    "df.describe()"
   ]
  },
  {
   "cell_type": "code",
   "execution_count": 7,
   "metadata": {},
   "outputs": [
    {
     "name": "stdout",
     "output_type": "stream",
     "text": [
      "Total number of orders: 18532\n",
      "Total number of users: 4338\n",
      "Total number of products: 3665\n"
     ]
    }
   ],
   "source": [
    "print(\"Total number of orders:\", len(np.unique(df['InvoiceNo'])))\n",
    "print(\"Total number of users:\", len(np.unique(df['CustomerID'])))\n",
    "print(\"Total number of products:\", len(np.unique(df['StockCode'])))"
   ]
  },
  {
   "cell_type": "markdown",
   "metadata": {},
   "source": [
    "## Initial findings\n",
    "* The *UnitPrice* for a product is relatively low and has some outliers on the right side of the distribution. Same applies to *TotalSum*.\n",
    "* There are 18532 orders from 4338 different customers. We have 3665 different products.\n",
    "* The *Description* texts are all in capital letters, which needs further preprocessing in our recommendation system 2.\n",
    "* There are less entries in the *Cluster* column which indicates missing values, which we will need to take care of."
   ]
  },
  {
   "cell_type": "markdown",
   "metadata": {},
   "source": [
    "# Data Preprocessing\n",
    "## Check missing values\n",
    "As we already preprocessed the data in the clustering use case, all NA-values were already dropped. However, the cluster-information is missing for some customers who dropped out during the preparation of the rfm-Framework. As our recommendation systems won't use the column we can include the entries."
   ]
  },
  {
   "cell_type": "code",
   "execution_count": 8,
   "metadata": {},
   "outputs": [
    {
     "data": {
      "text/plain": [
       "CustomerID         0\n",
       "InvoiceNo          0\n",
       "StockCode          0\n",
       "Description        0\n",
       "Quantity           0\n",
       "InvoiceDate        0\n",
       "UnitPrice          0\n",
       "Country            0\n",
       "TotalSum           0\n",
       "Cluster        61082\n",
       "dtype: int64"
      ]
     },
     "execution_count": 8,
     "metadata": {},
     "output_type": "execute_result"
    }
   ],
   "source": [
    "df.isnull().sum()"
   ]
  },
  {
   "cell_type": "markdown",
   "metadata": {},
   "source": [
    "## Change datatypes"
   ]
  },
  {
   "cell_type": "code",
   "execution_count": 9,
   "metadata": {},
   "outputs": [],
   "source": [
    "df['InvoiceDate']=pd.to_datetime(df['InvoiceDate'])\n",
    "df['CustomerID']=df['CustomerID'].astype('category')\n",
    "df['InvoiceNo']=df['InvoiceNo'].astype('category')\n",
    "df['StockCode']=df['StockCode'].astype('category')\n",
    "df['Description']=df['Description'].astype('category')\n",
    "df['Country']=df['Country'].astype('category')\n",
    "df['Cluster']=df['Cluster'].astype('category')"
   ]
  },
  {
   "cell_type": "markdown",
   "metadata": {},
   "source": [
    "## Create dictionary with StockCode and Description"
   ]
  },
  {
   "cell_type": "code",
   "execution_count": 10,
   "metadata": {},
   "outputs": [],
   "source": [
    "#create dictionary for later checks\n",
    "items =dict(zip(df.StockCode, df.Description))"
   ]
  },
  {
   "cell_type": "markdown",
   "metadata": {},
   "source": [
    "# Recommendation System 1: Most popular products\n",
    "One way to systematically select products is to rank the products based on how many times they were sold. In this way, we can identify the 20 most popular products and recommend them to all our customers. We will test our definition of most popular products on the CustomerID (How many customers have bought the item?) and the Quantity (How many times was the item bought?) features. Then we will see which one of them is more suitable for the definition of popular products. "
   ]
  },
  {
   "cell_type": "code",
   "execution_count": 11,
   "metadata": {},
   "outputs": [],
   "source": [
    "# most popular products: customer- and quantity-based\n",
    "popular=df.groupby(['StockCode']).agg({\n",
    "    'CustomerID': 'count',\n",
    "    'Quantity':'sum'})\n"
   ]
  },
  {
   "cell_type": "code",
   "execution_count": 12,
   "metadata": {},
   "outputs": [
    {
     "data": {
      "text/html": [
       "<div>\n",
       "<style scoped>\n",
       "    .dataframe tbody tr th:only-of-type {\n",
       "        vertical-align: middle;\n",
       "    }\n",
       "\n",
       "    .dataframe tbody tr th {\n",
       "        vertical-align: top;\n",
       "    }\n",
       "\n",
       "    .dataframe thead th {\n",
       "        text-align: right;\n",
       "    }\n",
       "</style>\n",
       "<table border=\"1\" class=\"dataframe\">\n",
       "  <thead>\n",
       "    <tr style=\"text-align: right;\">\n",
       "      <th></th>\n",
       "      <th>CustomerID</th>\n",
       "      <th>Quantity</th>\n",
       "    </tr>\n",
       "    <tr>\n",
       "      <th>StockCode</th>\n",
       "      <th></th>\n",
       "      <th></th>\n",
       "    </tr>\n",
       "  </thead>\n",
       "  <tbody>\n",
       "    <tr>\n",
       "      <th>23843</th>\n",
       "      <td>1</td>\n",
       "      <td>80995</td>\n",
       "    </tr>\n",
       "    <tr>\n",
       "      <th>23166</th>\n",
       "      <td>198</td>\n",
       "      <td>77916</td>\n",
       "    </tr>\n",
       "    <tr>\n",
       "      <th>84077</th>\n",
       "      <td>473</td>\n",
       "      <td>54415</td>\n",
       "    </tr>\n",
       "    <tr>\n",
       "      <th>22197</th>\n",
       "      <td>1068</td>\n",
       "      <td>49183</td>\n",
       "    </tr>\n",
       "    <tr>\n",
       "      <th>85099B</th>\n",
       "      <td>1618</td>\n",
       "      <td>46181</td>\n",
       "    </tr>\n",
       "    <tr>\n",
       "      <th>85123A</th>\n",
       "      <td>2035</td>\n",
       "      <td>36782</td>\n",
       "    </tr>\n",
       "    <tr>\n",
       "      <th>84879</th>\n",
       "      <td>1408</td>\n",
       "      <td>35362</td>\n",
       "    </tr>\n",
       "    <tr>\n",
       "      <th>21212</th>\n",
       "      <td>1068</td>\n",
       "      <td>33693</td>\n",
       "    </tr>\n",
       "    <tr>\n",
       "      <th>23084</th>\n",
       "      <td>842</td>\n",
       "      <td>27202</td>\n",
       "    </tr>\n",
       "    <tr>\n",
       "      <th>22492</th>\n",
       "      <td>325</td>\n",
       "      <td>26076</td>\n",
       "    </tr>\n",
       "  </tbody>\n",
       "</table>\n",
       "</div>"
      ],
      "text/plain": [
       "           CustomerID  Quantity\n",
       "StockCode                      \n",
       "23843               1     80995\n",
       "23166             198     77916\n",
       "84077             473     54415\n",
       "22197            1068     49183\n",
       "85099B           1618     46181\n",
       "85123A           2035     36782\n",
       "84879            1408     35362\n",
       "21212            1068     33693\n",
       "23084             842     27202\n",
       "22492             325     26076"
      ]
     },
     "execution_count": 12,
     "metadata": {},
     "output_type": "execute_result"
    }
   ],
   "source": [
    "#Most popular products by Quantity\n",
    "popular.sort_values(by=['Quantity'], ascending=False).head(10)"
   ]
  },
  {
   "cell_type": "code",
   "execution_count": 13,
   "metadata": {},
   "outputs": [
    {
     "data": {
      "text/html": [
       "<div>\n",
       "<style scoped>\n",
       "    .dataframe tbody tr th:only-of-type {\n",
       "        vertical-align: middle;\n",
       "    }\n",
       "\n",
       "    .dataframe tbody tr th {\n",
       "        vertical-align: top;\n",
       "    }\n",
       "\n",
       "    .dataframe thead th {\n",
       "        text-align: right;\n",
       "    }\n",
       "</style>\n",
       "<table border=\"1\" class=\"dataframe\">\n",
       "  <thead>\n",
       "    <tr style=\"text-align: right;\">\n",
       "      <th></th>\n",
       "      <th>CustomerID</th>\n",
       "      <th>Quantity</th>\n",
       "    </tr>\n",
       "    <tr>\n",
       "      <th>StockCode</th>\n",
       "      <th></th>\n",
       "      <th></th>\n",
       "    </tr>\n",
       "  </thead>\n",
       "  <tbody>\n",
       "    <tr>\n",
       "      <th>85123A</th>\n",
       "      <td>2035</td>\n",
       "      <td>36782</td>\n",
       "    </tr>\n",
       "    <tr>\n",
       "      <th>22423</th>\n",
       "      <td>1723</td>\n",
       "      <td>12402</td>\n",
       "    </tr>\n",
       "    <tr>\n",
       "      <th>85099B</th>\n",
       "      <td>1618</td>\n",
       "      <td>46181</td>\n",
       "    </tr>\n",
       "    <tr>\n",
       "      <th>84879</th>\n",
       "      <td>1408</td>\n",
       "      <td>35362</td>\n",
       "    </tr>\n",
       "    <tr>\n",
       "      <th>47566</th>\n",
       "      <td>1396</td>\n",
       "      <td>15291</td>\n",
       "    </tr>\n",
       "    <tr>\n",
       "      <th>20725</th>\n",
       "      <td>1317</td>\n",
       "      <td>17897</td>\n",
       "    </tr>\n",
       "    <tr>\n",
       "      <th>22720</th>\n",
       "      <td>1159</td>\n",
       "      <td>7020</td>\n",
       "    </tr>\n",
       "    <tr>\n",
       "      <th>20727</th>\n",
       "      <td>1105</td>\n",
       "      <td>11291</td>\n",
       "    </tr>\n",
       "    <tr>\n",
       "      <th>POST</th>\n",
       "      <td>1099</td>\n",
       "      <td>3120</td>\n",
       "    </tr>\n",
       "    <tr>\n",
       "      <th>23203</th>\n",
       "      <td>1098</td>\n",
       "      <td>19516</td>\n",
       "    </tr>\n",
       "  </tbody>\n",
       "</table>\n",
       "</div>"
      ],
      "text/plain": [
       "           CustomerID  Quantity\n",
       "StockCode                      \n",
       "85123A           2035     36782\n",
       "22423            1723     12402\n",
       "85099B           1618     46181\n",
       "84879            1408     35362\n",
       "47566            1396     15291\n",
       "20725            1317     17897\n",
       "22720            1159      7020\n",
       "20727            1105     11291\n",
       "POST             1099      3120\n",
       "23203            1098     19516"
      ]
     },
     "execution_count": 13,
     "metadata": {},
     "output_type": "execute_result"
    }
   ],
   "source": [
    "#Most popular products by Quantity\n",
    "popular.sort_values(by=['CustomerID'], ascending=False).head(10)"
   ]
  },
  {
   "cell_type": "markdown",
   "metadata": {},
   "source": [
    "The sorted values reveal that there are individual customers who buy a very large quantity of a product. Since there preference cannot be assumed for the entire customer base, we define the most popular products depending on how many customers have already bought the product."
   ]
  },
  {
   "cell_type": "code",
   "execution_count": 14,
   "metadata": {},
   "outputs": [
    {
     "data": {
      "image/png": "[encoded data removed]",
      "text/plain": [
       "<Figure size 432x288 with 1 Axes>"
      ]
     },
     "metadata": {
      "needs_background": "light"
     },
     "output_type": "display_data"
    }
   ],
   "source": [
    "popular.head(25).plot(kind = \"bar\", y='CustomerID')"
   ]
  },
  {
   "cell_type": "markdown",
   "metadata": {},
   "source": [
    "# Recommendation System 2: Item-to-Item based recommendation\n",
    "Even though our first system is already better than a random product selection, it offers all customers the same products and doesn't leverage existing information about the user. If an user has already clicked on a social media ad and accepts the cookies, we can identify him again. Therefore, we can recommend products similar to the one's he has already viewed."
   ]
  },
  {
   "cell_type": "markdown",
   "metadata": {},
   "source": [
    "## Define dataset\n",
    "To identify similar products we will use the *Description* and *StockCode* feature."
   ]
  },
  {
   "cell_type": "code",
   "execution_count": 89,
   "metadata": {},
   "outputs": [
    {
     "data": {
      "text/html": [
       "<div>\n",
       "<style scoped>\n",
       "    .dataframe tbody tr th:only-of-type {\n",
       "        vertical-align: middle;\n",
       "    }\n",
       "\n",
       "    .dataframe tbody tr th {\n",
       "        vertical-align: top;\n",
       "    }\n",
       "\n",
       "    .dataframe thead th {\n",
       "        text-align: right;\n",
       "    }\n",
       "</style>\n",
       "<table border=\"1\" class=\"dataframe\">\n",
       "  <thead>\n",
       "    <tr style=\"text-align: right;\">\n",
       "      <th></th>\n",
       "      <th>CustomerID</th>\n",
       "      <th>InvoiceNo</th>\n",
       "      <th>StockCode</th>\n",
       "      <th>Description</th>\n",
       "      <th>Quantity</th>\n",
       "      <th>InvoiceDate</th>\n",
       "      <th>UnitPrice</th>\n",
       "      <th>Country</th>\n",
       "      <th>TotalSum</th>\n",
       "      <th>Cluster</th>\n",
       "    </tr>\n",
       "  </thead>\n",
       "  <tbody>\n",
       "    <tr>\n",
       "      <th>0</th>\n",
       "      <td>12346</td>\n",
       "      <td>541431</td>\n",
       "      <td>23166</td>\n",
       "      <td>MEDIUM CERAMIC TOP STORAGE JAR</td>\n",
       "      <td>74215</td>\n",
       "      <td>2011-01-18 10:01:00</td>\n",
       "      <td>1.04</td>\n",
       "      <td>United Kingdom</td>\n",
       "      <td>77183.6</td>\n",
       "      <td>NaN</td>\n",
       "    </tr>\n",
       "    <tr>\n",
       "      <th>1</th>\n",
       "      <td>12347</td>\n",
       "      <td>537626</td>\n",
       "      <td>85116</td>\n",
       "      <td>BLACK CANDELABRA T-LIGHT HOLDER</td>\n",
       "      <td>12</td>\n",
       "      <td>2010-12-07 14:57:00</td>\n",
       "      <td>2.10</td>\n",
       "      <td>Iceland</td>\n",
       "      <td>25.2</td>\n",
       "      <td>2.0</td>\n",
       "    </tr>\n",
       "    <tr>\n",
       "      <th>2</th>\n",
       "      <td>12347</td>\n",
       "      <td>537626</td>\n",
       "      <td>22375</td>\n",
       "      <td>AIRLINE BAG VINTAGE JET SET BROWN</td>\n",
       "      <td>4</td>\n",
       "      <td>2010-12-07 14:57:00</td>\n",
       "      <td>4.25</td>\n",
       "      <td>Iceland</td>\n",
       "      <td>17.0</td>\n",
       "      <td>2.0</td>\n",
       "    </tr>\n",
       "    <tr>\n",
       "      <th>3</th>\n",
       "      <td>12347</td>\n",
       "      <td>537626</td>\n",
       "      <td>71477</td>\n",
       "      <td>COLOUR GLASS. STAR T-LIGHT HOLDER</td>\n",
       "      <td>12</td>\n",
       "      <td>2010-12-07 14:57:00</td>\n",
       "      <td>3.25</td>\n",
       "      <td>Iceland</td>\n",
       "      <td>39.0</td>\n",
       "      <td>2.0</td>\n",
       "    </tr>\n",
       "    <tr>\n",
       "      <th>4</th>\n",
       "      <td>12347</td>\n",
       "      <td>537626</td>\n",
       "      <td>22492</td>\n",
       "      <td>MINI PAINT SET VINTAGE</td>\n",
       "      <td>36</td>\n",
       "      <td>2010-12-07 14:57:00</td>\n",
       "      <td>0.65</td>\n",
       "      <td>Iceland</td>\n",
       "      <td>23.4</td>\n",
       "      <td>2.0</td>\n",
       "    </tr>\n",
       "  </tbody>\n",
       "</table>\n",
       "</div>"
      ],
      "text/plain": [
       "  CustomerID InvoiceNo StockCode                        Description  Quantity  \\\n",
       "0      12346    541431     23166     MEDIUM CERAMIC TOP STORAGE JAR     74215   \n",
       "1      12347    537626     85116    BLACK CANDELABRA T-LIGHT HOLDER        12   \n",
       "2      12347    537626     22375  AIRLINE BAG VINTAGE JET SET BROWN         4   \n",
       "3      12347    537626     71477  COLOUR GLASS. STAR T-LIGHT HOLDER        12   \n",
       "4      12347    537626     22492            MINI PAINT SET VINTAGE         36   \n",
       "\n",
       "          InvoiceDate  UnitPrice         Country  TotalSum Cluster  \n",
       "0 2011-01-18 10:01:00       1.04  United Kingdom   77183.6     NaN  \n",
       "1 2010-12-07 14:57:00       2.10         Iceland      25.2     2.0  \n",
       "2 2010-12-07 14:57:00       4.25         Iceland      17.0     2.0  \n",
       "3 2010-12-07 14:57:00       3.25         Iceland      39.0     2.0  \n",
       "4 2010-12-07 14:57:00       0.65         Iceland      23.4     2.0  "
      ]
     },
     "execution_count": 89,
     "metadata": {},
     "output_type": "execute_result"
    }
   ],
   "source": [
    "df.head()"
   ]
  },
  {
   "cell_type": "code",
   "execution_count": 90,
   "metadata": {},
   "outputs": [],
   "source": [
    "#drop unnecessary columns\n",
    "df_reco2=df.drop(['CustomerID','InvoiceNo', 'InvoiceDate', 'Quantity', 'UnitPrice', 'TotalSum', 'Country', 'Cluster'], axis=1)"
   ]
  },
  {
   "cell_type": "code",
   "execution_count": 91,
   "metadata": {},
   "outputs": [],
   "source": [
    "#only one row for each product\n",
    "df_reco2=df_reco3.drop_duplicates()"
   ]
  },
  {
   "cell_type": "code",
   "execution_count": 92,
   "metadata": {},
   "outputs": [
    {
     "data": {
      "text/html": [
       "<div>\n",
       "<style scoped>\n",
       "    .dataframe tbody tr th:only-of-type {\n",
       "        vertical-align: middle;\n",
       "    }\n",
       "\n",
       "    .dataframe tbody tr th {\n",
       "        vertical-align: top;\n",
       "    }\n",
       "\n",
       "    .dataframe thead th {\n",
       "        text-align: right;\n",
       "    }\n",
       "</style>\n",
       "<table border=\"1\" class=\"dataframe\">\n",
       "  <thead>\n",
       "    <tr style=\"text-align: right;\">\n",
       "      <th></th>\n",
       "      <th>StockCode</th>\n",
       "      <th>Description</th>\n",
       "    </tr>\n",
       "  </thead>\n",
       "  <tbody>\n",
       "    <tr>\n",
       "      <th>0</th>\n",
       "      <td>23166</td>\n",
       "      <td>MEDIUM CERAMIC TOP STORAGE JAR</td>\n",
       "    </tr>\n",
       "    <tr>\n",
       "      <th>1</th>\n",
       "      <td>85116</td>\n",
       "      <td>BLACK CANDELABRA T-LIGHT HOLDER</td>\n",
       "    </tr>\n",
       "    <tr>\n",
       "      <th>2</th>\n",
       "      <td>22375</td>\n",
       "      <td>AIRLINE BAG VINTAGE JET SET BROWN</td>\n",
       "    </tr>\n",
       "    <tr>\n",
       "      <th>3</th>\n",
       "      <td>71477</td>\n",
       "      <td>COLOUR GLASS. STAR T-LIGHT HOLDER</td>\n",
       "    </tr>\n",
       "    <tr>\n",
       "      <th>4</th>\n",
       "      <td>22492</td>\n",
       "      <td>MINI PAINT SET VINTAGE</td>\n",
       "    </tr>\n",
       "  </tbody>\n",
       "</table>\n",
       "</div>"
      ],
      "text/plain": [
       "  StockCode                        Description\n",
       "0     23166     MEDIUM CERAMIC TOP STORAGE JAR\n",
       "1     85116    BLACK CANDELABRA T-LIGHT HOLDER\n",
       "2     22375  AIRLINE BAG VINTAGE JET SET BROWN\n",
       "3     71477  COLOUR GLASS. STAR T-LIGHT HOLDER\n",
       "4     22492            MINI PAINT SET VINTAGE "
      ]
     },
     "execution_count": 92,
     "metadata": {},
     "output_type": "execute_result"
    }
   ],
   "source": [
    "df_reco2.head()"
   ]
  },
  {
   "cell_type": "markdown",
   "metadata": {},
   "source": [
    "## Prepare Description column\n",
    "<p style='color:red'>Wieso funktioniert löschen von Satzzeichen nicht?Noch weitere Tips für Preprocessing?</p>"
   ]
  },
  {
   "cell_type": "code",
   "execution_count": 93,
   "metadata": {},
   "outputs": [],
   "source": [
    "#regular expressiond, z.B. nur noch Buchstaben\n",
    "#lower description and delete all punctuation marks\n",
    "df_reco2['Description']=df_reco2['Description'].str.lower()\n",
    "df_reco2['Description']=df_reco2['Description'].replace(\".\", \" \")"
   ]
  },
  {
   "cell_type": "code",
   "execution_count": 94,
   "metadata": {},
   "outputs": [
    {
     "data": {
      "text/html": [
       "<div>\n",
       "<style scoped>\n",
       "    .dataframe tbody tr th:only-of-type {\n",
       "        vertical-align: middle;\n",
       "    }\n",
       "\n",
       "    .dataframe tbody tr th {\n",
       "        vertical-align: top;\n",
       "    }\n",
       "\n",
       "    .dataframe thead th {\n",
       "        text-align: right;\n",
       "    }\n",
       "</style>\n",
       "<table border=\"1\" class=\"dataframe\">\n",
       "  <thead>\n",
       "    <tr style=\"text-align: right;\">\n",
       "      <th></th>\n",
       "      <th>StockCode</th>\n",
       "      <th>Description</th>\n",
       "    </tr>\n",
       "  </thead>\n",
       "  <tbody>\n",
       "    <tr>\n",
       "      <th>0</th>\n",
       "      <td>23166</td>\n",
       "      <td>medium ceramic top storage jar</td>\n",
       "    </tr>\n",
       "    <tr>\n",
       "      <th>1</th>\n",
       "      <td>85116</td>\n",
       "      <td>black candelabra t-light holder</td>\n",
       "    </tr>\n",
       "    <tr>\n",
       "      <th>2</th>\n",
       "      <td>22375</td>\n",
       "      <td>airline bag vintage jet set brown</td>\n",
       "    </tr>\n",
       "    <tr>\n",
       "      <th>3</th>\n",
       "      <td>71477</td>\n",
       "      <td>colour glass. star t-light holder</td>\n",
       "    </tr>\n",
       "    <tr>\n",
       "      <th>4</th>\n",
       "      <td>22492</td>\n",
       "      <td>mini paint set vintage</td>\n",
       "    </tr>\n",
       "  </tbody>\n",
       "</table>\n",
       "</div>"
      ],
      "text/plain": [
       "  StockCode                        Description\n",
       "0     23166     medium ceramic top storage jar\n",
       "1     85116    black candelabra t-light holder\n",
       "2     22375  airline bag vintage jet set brown\n",
       "3     71477  colour glass. star t-light holder\n",
       "4     22492            mini paint set vintage "
      ]
     },
     "execution_count": 94,
     "metadata": {},
     "output_type": "execute_result"
    }
   ],
   "source": [
    "df_reco2.head()"
   ]
  },
  {
   "cell_type": "markdown",
   "metadata": {},
   "source": [
    "## Create Tfidf Matrix from product description\n",
    "Tf-Idf-Vectorizer transforms text to feature vectors. It converts each word/token to a feature index in the matrix. Additionally, it takes into account the relevance of each term based on how many times it occurs in the text. Words that occur less frequently are given a higher value than words that occur very frequently, because they can be used to identify a single product with a higher probability."
   ]
  },
  {
   "cell_type": "code",
   "execution_count": 95,
   "metadata": {},
   "outputs": [],
   "source": [
    "tf = TfidfVectorizer(analyzer='word',ngram_range=(1, 2),min_df=0, stop_words='english')\n",
    "#create tfidf-matrix: Product description is broken down into words. Each word becomes a column and receives value in row, where it occurs\n",
    "tfidf_matrix = tf.fit_transform(df_reco2['Description'])"
   ]
  },
  {
   "cell_type": "markdown",
   "metadata": {},
   "source": [
    "With the *linear_kernel()*-Funktion we can calculate the cosinus-simularity between the products. The cosinus simularity considers the angle between to vectors. The higher the value, the more similar are the vectors. "
   ]
  },
  {
   "cell_type": "code",
   "execution_count": null,
   "metadata": {},
   "outputs": [],
   "source": [
    "cosine_sim = linear_kernel(tfidf_matrix, tfidf_matrix)"
   ]
  },
  {
   "cell_type": "markdown",
   "metadata": {},
   "source": [
    "As linear kernel compares each products with all of the others, it results in an array, which contains a list of all simularity measures for each product. This list is ordered by their sequence in the matrix. For example Product 1 is 100% similar to product 1 as it is the same."
   ]
  },
  {
   "cell_type": "code",
   "execution_count": 112,
   "metadata": {},
   "outputs": [
    {
     "data": {
      "text/plain": [
       "array([[1., 0., 0., ..., 0., 0., 0.],\n",
       "       [0., 1., 0., ..., 0., 0., 0.],\n",
       "       [0., 0., 1., ..., 0., 0., 0.],\n",
       "       ...,\n",
       "       [0., 0., 0., ..., 1., 0., 0.],\n",
       "       [0., 0., 0., ..., 0., 1., 0.],\n",
       "       [0., 0., 0., ..., 0., 0., 1.]])"
      ]
     },
     "execution_count": 112,
     "metadata": {},
     "output_type": "execute_result"
    }
   ],
   "source": [
    "cosine_sim"
   ]
  },
  {
   "cell_type": "markdown",
   "metadata": {},
   "source": [
    "## Build recommendation function\n",
    "We now have the information how similar each product description is compared to another. Therefore, we can build a function, which orders the recommended products based on how similar they are to the original product. In other words: We rank the products in descending order of cosinus similarity."
   ]
  },
  {
   "cell_type": "code",
   "execution_count": 98,
   "metadata": {},
   "outputs": [],
   "source": [
    "# Build a 1-dimensional array with description\n",
    "description = df_reco2['Description']\n",
    "indices = pd.Series(df_reco2.index, index=df_reco2['Description'])\n",
    "\n",
    "# Function that get book recommendations based on the cosine similarity score of book authors\n",
    "def item_recommendation(product):\n",
    "    # get index of product\n",
    "    idx = indices[product]\n",
    "    # get all cosinus similarities of the product\n",
    "    sim_scores = list(enumerate(cosine_sim[idx]))\n",
    "    #sort cosinus similarity in descending order\n",
    "    sim_scores = sorted(sim_scores, key=lambda x: x[1], reverse=True)\n",
    "    #limit to top 20 most similar\n",
    "    sim_scores = sim_scores[1:21]\n",
    "    # get id for recommended products in order to get their description names\n",
    "    item_indices = [i[0] for i in sim_scores]\n",
    "    return description.iloc[item_indices]"
   ]
  },
  {
   "cell_type": "code",
   "execution_count": 114,
   "metadata": {},
   "outputs": [
    {
     "data": {
      "text/plain": [
       "62            airline bag vintage jet set red\n",
       "37          airline bag vintage jet set white\n",
       "109       airline bag vintage world champion \n",
       "63               airline bag vintage tokyo 78\n",
       "4340             jumbo bag vintage christmas \n",
       "806                    jumbo bag vintage leaf\n",
       "1230                 jumbo bag vintage doily \n",
       "1158                 lunch bag vintage doily \n",
       "164018              jumbo bag vintage doiley \n",
       "194811              lunch bag vintage doiley \n",
       "395           charlotte bag vintage alphabet \n",
       "4859                cabin bag vintage paisley\n",
       "1231              cabin bag vintage retrospot\n",
       "784             lunch bag vintage leaf design\n",
       "10888       cosmetic bag vintage rose paisley\n",
       "1089            wash bag vintage rose paisley\n",
       "10008      overnight bag vintage rose paisley\n",
       "205411       weekend bag vintage rose paisley\n",
       "11498               airline lounge,metal sign\n",
       "179215          classic diamante earrings jet\n",
       "Name: Description, dtype: object"
      ]
     },
     "execution_count": 114,
     "metadata": {},
     "output_type": "execute_result"
    }
   ],
   "source": [
    "#testing the function\n",
    "item_recommendation('airline bag vintage jet set brown')"
   ]
  },
  {
   "cell_type": "markdown",
   "metadata": {},
   "source": [
    "# Recommendation system 3: Collaborative filtering based on purchase history and cluster\n",
    "If we can clearly identify a customer, we can personalise the ad even more. We can consider their purchasing history as well as how much they liked the product."
   ]
  },
  {
   "cell_type": "markdown",
   "metadata": {},
   "source": [
    "## Create dataframe\n",
    "We will base the recommender on the *CustomerID* and *StockCode* and *Quantity* feature. In this way, we see who bought what product and we use *Quantity* as an indicator of how much the customer liked the product. "
   ]
  },
  {
   "cell_type": "code",
   "execution_count": 137,
   "metadata": {},
   "outputs": [
    {
     "data": {
      "text/html": [
       "<div>\n",
       "<style scoped>\n",
       "    .dataframe tbody tr th:only-of-type {\n",
       "        vertical-align: middle;\n",
       "    }\n",
       "\n",
       "    .dataframe tbody tr th {\n",
       "        vertical-align: top;\n",
       "    }\n",
       "\n",
       "    .dataframe thead th {\n",
       "        text-align: right;\n",
       "    }\n",
       "</style>\n",
       "<table border=\"1\" class=\"dataframe\">\n",
       "  <thead>\n",
       "    <tr style=\"text-align: right;\">\n",
       "      <th></th>\n",
       "      <th>CustomerID</th>\n",
       "      <th>InvoiceNo</th>\n",
       "      <th>StockCode</th>\n",
       "      <th>Description</th>\n",
       "      <th>Quantity</th>\n",
       "      <th>InvoiceDate</th>\n",
       "      <th>UnitPrice</th>\n",
       "      <th>Country</th>\n",
       "      <th>TotalSum</th>\n",
       "      <th>Cluster</th>\n",
       "    </tr>\n",
       "  </thead>\n",
       "  <tbody>\n",
       "    <tr>\n",
       "      <th>0</th>\n",
       "      <td>12346</td>\n",
       "      <td>541431</td>\n",
       "      <td>23166</td>\n",
       "      <td>MEDIUM CERAMIC TOP STORAGE JAR</td>\n",
       "      <td>74215</td>\n",
       "      <td>2011-01-18 10:01:00</td>\n",
       "      <td>1.04</td>\n",
       "      <td>United Kingdom</td>\n",
       "      <td>77183.6</td>\n",
       "      <td>NaN</td>\n",
       "    </tr>\n",
       "    <tr>\n",
       "      <th>1</th>\n",
       "      <td>12347</td>\n",
       "      <td>537626</td>\n",
       "      <td>85116</td>\n",
       "      <td>BLACK CANDELABRA T-LIGHT HOLDER</td>\n",
       "      <td>12</td>\n",
       "      <td>2010-12-07 14:57:00</td>\n",
       "      <td>2.10</td>\n",
       "      <td>Iceland</td>\n",
       "      <td>25.2</td>\n",
       "      <td>2.0</td>\n",
       "    </tr>\n",
       "    <tr>\n",
       "      <th>2</th>\n",
       "      <td>12347</td>\n",
       "      <td>537626</td>\n",
       "      <td>22375</td>\n",
       "      <td>AIRLINE BAG VINTAGE JET SET BROWN</td>\n",
       "      <td>4</td>\n",
       "      <td>2010-12-07 14:57:00</td>\n",
       "      <td>4.25</td>\n",
       "      <td>Iceland</td>\n",
       "      <td>17.0</td>\n",
       "      <td>2.0</td>\n",
       "    </tr>\n",
       "    <tr>\n",
       "      <th>3</th>\n",
       "      <td>12347</td>\n",
       "      <td>537626</td>\n",
       "      <td>71477</td>\n",
       "      <td>COLOUR GLASS. STAR T-LIGHT HOLDER</td>\n",
       "      <td>12</td>\n",
       "      <td>2010-12-07 14:57:00</td>\n",
       "      <td>3.25</td>\n",
       "      <td>Iceland</td>\n",
       "      <td>39.0</td>\n",
       "      <td>2.0</td>\n",
       "    </tr>\n",
       "    <tr>\n",
       "      <th>4</th>\n",
       "      <td>12347</td>\n",
       "      <td>537626</td>\n",
       "      <td>22492</td>\n",
       "      <td>MINI PAINT SET VINTAGE</td>\n",
       "      <td>36</td>\n",
       "      <td>2010-12-07 14:57:00</td>\n",
       "      <td>0.65</td>\n",
       "      <td>Iceland</td>\n",
       "      <td>23.4</td>\n",
       "      <td>2.0</td>\n",
       "    </tr>\n",
       "  </tbody>\n",
       "</table>\n",
       "</div>"
      ],
      "text/plain": [
       "  CustomerID InvoiceNo StockCode                        Description  Quantity  \\\n",
       "0      12346    541431     23166     MEDIUM CERAMIC TOP STORAGE JAR     74215   \n",
       "1      12347    537626     85116    BLACK CANDELABRA T-LIGHT HOLDER        12   \n",
       "2      12347    537626     22375  AIRLINE BAG VINTAGE JET SET BROWN         4   \n",
       "3      12347    537626     71477  COLOUR GLASS. STAR T-LIGHT HOLDER        12   \n",
       "4      12347    537626     22492            MINI PAINT SET VINTAGE         36   \n",
       "\n",
       "          InvoiceDate  UnitPrice         Country  TotalSum Cluster  \n",
       "0 2011-01-18 10:01:00       1.04  United Kingdom   77183.6     NaN  \n",
       "1 2010-12-07 14:57:00       2.10         Iceland      25.2     2.0  \n",
       "2 2010-12-07 14:57:00       4.25         Iceland      17.0     2.0  \n",
       "3 2010-12-07 14:57:00       3.25         Iceland      39.0     2.0  \n",
       "4 2010-12-07 14:57:00       0.65         Iceland      23.4     2.0  "
      ]
     },
     "execution_count": 137,
     "metadata": {},
     "output_type": "execute_result"
    }
   ],
   "source": [
    "df.head()"
   ]
  },
  {
   "cell_type": "code",
   "execution_count": 138,
   "metadata": {},
   "outputs": [],
   "source": [
    "#drop unnecessary columns\n",
    "df_reco3=df.drop(['InvoiceNo', 'InvoiceDate', 'Cluster', 'Description', 'UnitPrice', 'TotalSum', 'Country'], axis=1)"
   ]
  },
  {
   "cell_type": "code",
   "execution_count": 139,
   "metadata": {},
   "outputs": [],
   "source": [
    "#drop rows with missing values\n",
    "df_reco3=df_reco3.dropna()"
   ]
  },
  {
   "cell_type": "code",
   "execution_count": 140,
   "metadata": {},
   "outputs": [
    {
     "data": {
      "text/html": [
       "<div>\n",
       "<style scoped>\n",
       "    .dataframe tbody tr th:only-of-type {\n",
       "        vertical-align: middle;\n",
       "    }\n",
       "\n",
       "    .dataframe tbody tr th {\n",
       "        vertical-align: top;\n",
       "    }\n",
       "\n",
       "    .dataframe thead th {\n",
       "        text-align: right;\n",
       "    }\n",
       "</style>\n",
       "<table border=\"1\" class=\"dataframe\">\n",
       "  <thead>\n",
       "    <tr style=\"text-align: right;\">\n",
       "      <th></th>\n",
       "      <th>CustomerID</th>\n",
       "      <th>StockCode</th>\n",
       "      <th>Quantity</th>\n",
       "    </tr>\n",
       "  </thead>\n",
       "  <tbody>\n",
       "    <tr>\n",
       "      <th>0</th>\n",
       "      <td>12346</td>\n",
       "      <td>23166</td>\n",
       "      <td>74215</td>\n",
       "    </tr>\n",
       "    <tr>\n",
       "      <th>1</th>\n",
       "      <td>12347</td>\n",
       "      <td>85116</td>\n",
       "      <td>12</td>\n",
       "    </tr>\n",
       "    <tr>\n",
       "      <th>2</th>\n",
       "      <td>12347</td>\n",
       "      <td>22375</td>\n",
       "      <td>4</td>\n",
       "    </tr>\n",
       "    <tr>\n",
       "      <th>3</th>\n",
       "      <td>12347</td>\n",
       "      <td>71477</td>\n",
       "      <td>12</td>\n",
       "    </tr>\n",
       "    <tr>\n",
       "      <th>4</th>\n",
       "      <td>12347</td>\n",
       "      <td>22492</td>\n",
       "      <td>36</td>\n",
       "    </tr>\n",
       "  </tbody>\n",
       "</table>\n",
       "</div>"
      ],
      "text/plain": [
       "  CustomerID StockCode  Quantity\n",
       "0      12346     23166     74215\n",
       "1      12347     85116        12\n",
       "2      12347     22375         4\n",
       "3      12347     71477        12\n",
       "4      12347     22492        36"
      ]
     },
     "execution_count": 140,
     "metadata": {},
     "output_type": "execute_result"
    }
   ],
   "source": [
    "df_reco3.head()"
   ]
  },
  {
   "cell_type": "markdown",
   "metadata": {},
   "source": [
    "## Create Matrix\n",
    "The utility_matrix shows all which items each user has bought. Products are listed in columns, customers in rows and the quantity is in the cell of the product bought by a customer. Most values are unknown as one singluar customer doesn't buy nearly all different products."
   ]
  },
  {
   "cell_type": "code",
   "execution_count": 141,
   "metadata": {},
   "outputs": [
    {
     "data": {
      "text/html": [
       "<div>\n",
       "<style scoped>\n",
       "    .dataframe tbody tr th:only-of-type {\n",
       "        vertical-align: middle;\n",
       "    }\n",
       "\n",
       "    .dataframe tbody tr th {\n",
       "        vertical-align: top;\n",
       "    }\n",
       "\n",
       "    .dataframe thead th {\n",
       "        text-align: right;\n",
       "    }\n",
       "</style>\n",
       "<table border=\"1\" class=\"dataframe\">\n",
       "  <thead>\n",
       "    <tr style=\"text-align: right;\">\n",
       "      <th>StockCode</th>\n",
       "      <th>10002</th>\n",
       "      <th>10080</th>\n",
       "      <th>10120</th>\n",
       "      <th>10123C</th>\n",
       "      <th>10124A</th>\n",
       "      <th>10124G</th>\n",
       "      <th>10125</th>\n",
       "      <th>10133</th>\n",
       "      <th>10135</th>\n",
       "      <th>11001</th>\n",
       "      <th>...</th>\n",
       "      <th>90214V</th>\n",
       "      <th>90214W</th>\n",
       "      <th>90214Y</th>\n",
       "      <th>90214Z</th>\n",
       "      <th>BANK CHARGES</th>\n",
       "      <th>C2</th>\n",
       "      <th>DOT</th>\n",
       "      <th>M</th>\n",
       "      <th>PADS</th>\n",
       "      <th>POST</th>\n",
       "    </tr>\n",
       "    <tr>\n",
       "      <th>CustomerID</th>\n",
       "      <th></th>\n",
       "      <th></th>\n",
       "      <th></th>\n",
       "      <th></th>\n",
       "      <th></th>\n",
       "      <th></th>\n",
       "      <th></th>\n",
       "      <th></th>\n",
       "      <th></th>\n",
       "      <th></th>\n",
       "      <th></th>\n",
       "      <th></th>\n",
       "      <th></th>\n",
       "      <th></th>\n",
       "      <th></th>\n",
       "      <th></th>\n",
       "      <th></th>\n",
       "      <th></th>\n",
       "      <th></th>\n",
       "      <th></th>\n",
       "      <th></th>\n",
       "    </tr>\n",
       "  </thead>\n",
       "  <tbody>\n",
       "    <tr>\n",
       "      <th>12346</th>\n",
       "      <td>0</td>\n",
       "      <td>0</td>\n",
       "      <td>0</td>\n",
       "      <td>0</td>\n",
       "      <td>0</td>\n",
       "      <td>0</td>\n",
       "      <td>0</td>\n",
       "      <td>0</td>\n",
       "      <td>0</td>\n",
       "      <td>0</td>\n",
       "      <td>...</td>\n",
       "      <td>0</td>\n",
       "      <td>0</td>\n",
       "      <td>0</td>\n",
       "      <td>0</td>\n",
       "      <td>0</td>\n",
       "      <td>0</td>\n",
       "      <td>0</td>\n",
       "      <td>0</td>\n",
       "      <td>0</td>\n",
       "      <td>0</td>\n",
       "    </tr>\n",
       "    <tr>\n",
       "      <th>12347</th>\n",
       "      <td>0</td>\n",
       "      <td>0</td>\n",
       "      <td>0</td>\n",
       "      <td>0</td>\n",
       "      <td>0</td>\n",
       "      <td>0</td>\n",
       "      <td>0</td>\n",
       "      <td>0</td>\n",
       "      <td>0</td>\n",
       "      <td>0</td>\n",
       "      <td>...</td>\n",
       "      <td>0</td>\n",
       "      <td>0</td>\n",
       "      <td>0</td>\n",
       "      <td>0</td>\n",
       "      <td>0</td>\n",
       "      <td>0</td>\n",
       "      <td>0</td>\n",
       "      <td>0</td>\n",
       "      <td>0</td>\n",
       "      <td>0</td>\n",
       "    </tr>\n",
       "    <tr>\n",
       "      <th>12348</th>\n",
       "      <td>0</td>\n",
       "      <td>0</td>\n",
       "      <td>0</td>\n",
       "      <td>0</td>\n",
       "      <td>0</td>\n",
       "      <td>0</td>\n",
       "      <td>0</td>\n",
       "      <td>0</td>\n",
       "      <td>0</td>\n",
       "      <td>0</td>\n",
       "      <td>...</td>\n",
       "      <td>0</td>\n",
       "      <td>0</td>\n",
       "      <td>0</td>\n",
       "      <td>0</td>\n",
       "      <td>0</td>\n",
       "      <td>0</td>\n",
       "      <td>0</td>\n",
       "      <td>0</td>\n",
       "      <td>0</td>\n",
       "      <td>6</td>\n",
       "    </tr>\n",
       "    <tr>\n",
       "      <th>12349</th>\n",
       "      <td>0</td>\n",
       "      <td>0</td>\n",
       "      <td>0</td>\n",
       "      <td>0</td>\n",
       "      <td>0</td>\n",
       "      <td>0</td>\n",
       "      <td>0</td>\n",
       "      <td>0</td>\n",
       "      <td>0</td>\n",
       "      <td>0</td>\n",
       "      <td>...</td>\n",
       "      <td>0</td>\n",
       "      <td>0</td>\n",
       "      <td>0</td>\n",
       "      <td>0</td>\n",
       "      <td>0</td>\n",
       "      <td>0</td>\n",
       "      <td>0</td>\n",
       "      <td>0</td>\n",
       "      <td>0</td>\n",
       "      <td>1</td>\n",
       "    </tr>\n",
       "    <tr>\n",
       "      <th>12350</th>\n",
       "      <td>0</td>\n",
       "      <td>0</td>\n",
       "      <td>0</td>\n",
       "      <td>0</td>\n",
       "      <td>0</td>\n",
       "      <td>0</td>\n",
       "      <td>0</td>\n",
       "      <td>0</td>\n",
       "      <td>0</td>\n",
       "      <td>0</td>\n",
       "      <td>...</td>\n",
       "      <td>0</td>\n",
       "      <td>0</td>\n",
       "      <td>0</td>\n",
       "      <td>0</td>\n",
       "      <td>0</td>\n",
       "      <td>0</td>\n",
       "      <td>0</td>\n",
       "      <td>0</td>\n",
       "      <td>0</td>\n",
       "      <td>1</td>\n",
       "    </tr>\n",
       "  </tbody>\n",
       "</table>\n",
       "<p>5 rows × 3665 columns</p>\n",
       "</div>"
      ],
      "text/plain": [
       "StockCode   10002  10080  10120  10123C  10124A  10124G  10125  10133  10135  \\\n",
       "CustomerID                                                                     \n",
       "12346           0      0      0       0       0       0      0      0      0   \n",
       "12347           0      0      0       0       0       0      0      0      0   \n",
       "12348           0      0      0       0       0       0      0      0      0   \n",
       "12349           0      0      0       0       0       0      0      0      0   \n",
       "12350           0      0      0       0       0       0      0      0      0   \n",
       "\n",
       "StockCode   11001  ...  90214V  90214W  90214Y  90214Z  BANK CHARGES  C2  DOT  \\\n",
       "CustomerID         ...                                                          \n",
       "12346           0  ...       0       0       0       0             0   0    0   \n",
       "12347           0  ...       0       0       0       0             0   0    0   \n",
       "12348           0  ...       0       0       0       0             0   0    0   \n",
       "12349           0  ...       0       0       0       0             0   0    0   \n",
       "12350           0  ...       0       0       0       0             0   0    0   \n",
       "\n",
       "StockCode   M  PADS  POST  \n",
       "CustomerID                 \n",
       "12346       0     0     0  \n",
       "12347       0     0     0  \n",
       "12348       0     0     6  \n",
       "12349       0     0     1  \n",
       "12350       0     0     1  \n",
       "\n",
       "[5 rows x 3665 columns]"
      ]
     },
     "execution_count": 141,
     "metadata": {},
     "output_type": "execute_result"
    }
   ],
   "source": [
    "cluster_utility_matrix = df_reco3.pivot_table(values='Quantity', index='CustomerID', columns='StockCode', aggfunc='first', fill_value=0)\n",
    "cluster_utility_matrix.head()"
   ]
  },
  {
   "cell_type": "code",
   "execution_count": 142,
   "metadata": {},
   "outputs": [
    {
     "data": {
      "text/plain": [
       "(4338, 3665)"
      ]
     },
     "execution_count": 142,
     "metadata": {},
     "output_type": "execute_result"
    }
   ],
   "source": [
    "cluster_utility_matrix.shape"
   ]
  },
  {
   "cell_type": "markdown",
   "metadata": {},
   "source": [
    "The shape reveals again our 4288 customers and 3626 different products."
   ]
  },
  {
   "cell_type": "markdown",
   "metadata": {},
   "source": [
    "## Switch columns and rows\n",
    "In the next step, we will transpose the matrix, which means we swith columns and rows."
   ]
  },
  {
   "cell_type": "code",
   "execution_count": 143,
   "metadata": {},
   "outputs": [
    {
     "data": {
      "text/html": [
       "<div>\n",
       "<style scoped>\n",
       "    .dataframe tbody tr th:only-of-type {\n",
       "        vertical-align: middle;\n",
       "    }\n",
       "\n",
       "    .dataframe tbody tr th {\n",
       "        vertical-align: top;\n",
       "    }\n",
       "\n",
       "    .dataframe thead th {\n",
       "        text-align: right;\n",
       "    }\n",
       "</style>\n",
       "<table border=\"1\" class=\"dataframe\">\n",
       "  <thead>\n",
       "    <tr style=\"text-align: right;\">\n",
       "      <th>CustomerID</th>\n",
       "      <th>12346</th>\n",
       "      <th>12347</th>\n",
       "      <th>12348</th>\n",
       "      <th>12349</th>\n",
       "      <th>12350</th>\n",
       "      <th>12352</th>\n",
       "      <th>12353</th>\n",
       "      <th>12354</th>\n",
       "      <th>12355</th>\n",
       "      <th>12356</th>\n",
       "      <th>...</th>\n",
       "      <th>18273</th>\n",
       "      <th>18274</th>\n",
       "      <th>18276</th>\n",
       "      <th>18277</th>\n",
       "      <th>18278</th>\n",
       "      <th>18280</th>\n",
       "      <th>18281</th>\n",
       "      <th>18282</th>\n",
       "      <th>18283</th>\n",
       "      <th>18287</th>\n",
       "    </tr>\n",
       "    <tr>\n",
       "      <th>StockCode</th>\n",
       "      <th></th>\n",
       "      <th></th>\n",
       "      <th></th>\n",
       "      <th></th>\n",
       "      <th></th>\n",
       "      <th></th>\n",
       "      <th></th>\n",
       "      <th></th>\n",
       "      <th></th>\n",
       "      <th></th>\n",
       "      <th></th>\n",
       "      <th></th>\n",
       "      <th></th>\n",
       "      <th></th>\n",
       "      <th></th>\n",
       "      <th></th>\n",
       "      <th></th>\n",
       "      <th></th>\n",
       "      <th></th>\n",
       "      <th></th>\n",
       "      <th></th>\n",
       "    </tr>\n",
       "  </thead>\n",
       "  <tbody>\n",
       "    <tr>\n",
       "      <th>10002</th>\n",
       "      <td>0</td>\n",
       "      <td>0</td>\n",
       "      <td>0</td>\n",
       "      <td>0</td>\n",
       "      <td>0</td>\n",
       "      <td>0</td>\n",
       "      <td>0</td>\n",
       "      <td>0</td>\n",
       "      <td>0</td>\n",
       "      <td>0</td>\n",
       "      <td>...</td>\n",
       "      <td>0</td>\n",
       "      <td>0</td>\n",
       "      <td>0</td>\n",
       "      <td>0</td>\n",
       "      <td>0</td>\n",
       "      <td>0</td>\n",
       "      <td>0</td>\n",
       "      <td>0</td>\n",
       "      <td>0</td>\n",
       "      <td>0</td>\n",
       "    </tr>\n",
       "    <tr>\n",
       "      <th>10080</th>\n",
       "      <td>0</td>\n",
       "      <td>0</td>\n",
       "      <td>0</td>\n",
       "      <td>0</td>\n",
       "      <td>0</td>\n",
       "      <td>0</td>\n",
       "      <td>0</td>\n",
       "      <td>0</td>\n",
       "      <td>0</td>\n",
       "      <td>0</td>\n",
       "      <td>...</td>\n",
       "      <td>0</td>\n",
       "      <td>0</td>\n",
       "      <td>0</td>\n",
       "      <td>0</td>\n",
       "      <td>0</td>\n",
       "      <td>0</td>\n",
       "      <td>0</td>\n",
       "      <td>0</td>\n",
       "      <td>0</td>\n",
       "      <td>0</td>\n",
       "    </tr>\n",
       "    <tr>\n",
       "      <th>10120</th>\n",
       "      <td>0</td>\n",
       "      <td>0</td>\n",
       "      <td>0</td>\n",
       "      <td>0</td>\n",
       "      <td>0</td>\n",
       "      <td>0</td>\n",
       "      <td>0</td>\n",
       "      <td>0</td>\n",
       "      <td>0</td>\n",
       "      <td>0</td>\n",
       "      <td>...</td>\n",
       "      <td>0</td>\n",
       "      <td>0</td>\n",
       "      <td>0</td>\n",
       "      <td>0</td>\n",
       "      <td>0</td>\n",
       "      <td>0</td>\n",
       "      <td>0</td>\n",
       "      <td>0</td>\n",
       "      <td>0</td>\n",
       "      <td>0</td>\n",
       "    </tr>\n",
       "    <tr>\n",
       "      <th>10123C</th>\n",
       "      <td>0</td>\n",
       "      <td>0</td>\n",
       "      <td>0</td>\n",
       "      <td>0</td>\n",
       "      <td>0</td>\n",
       "      <td>0</td>\n",
       "      <td>0</td>\n",
       "      <td>0</td>\n",
       "      <td>0</td>\n",
       "      <td>0</td>\n",
       "      <td>...</td>\n",
       "      <td>0</td>\n",
       "      <td>0</td>\n",
       "      <td>0</td>\n",
       "      <td>0</td>\n",
       "      <td>0</td>\n",
       "      <td>0</td>\n",
       "      <td>0</td>\n",
       "      <td>0</td>\n",
       "      <td>0</td>\n",
       "      <td>0</td>\n",
       "    </tr>\n",
       "    <tr>\n",
       "      <th>10124A</th>\n",
       "      <td>0</td>\n",
       "      <td>0</td>\n",
       "      <td>0</td>\n",
       "      <td>0</td>\n",
       "      <td>0</td>\n",
       "      <td>0</td>\n",
       "      <td>0</td>\n",
       "      <td>0</td>\n",
       "      <td>0</td>\n",
       "      <td>0</td>\n",
       "      <td>...</td>\n",
       "      <td>0</td>\n",
       "      <td>0</td>\n",
       "      <td>0</td>\n",
       "      <td>0</td>\n",
       "      <td>0</td>\n",
       "      <td>0</td>\n",
       "      <td>0</td>\n",
       "      <td>0</td>\n",
       "      <td>0</td>\n",
       "      <td>0</td>\n",
       "    </tr>\n",
       "  </tbody>\n",
       "</table>\n",
       "<p>5 rows × 4338 columns</p>\n",
       "</div>"
      ],
      "text/plain": [
       "CustomerID  12346  12347  12348  12349  12350  12352  12353  12354  12355  \\\n",
       "StockCode                                                                   \n",
       "10002           0      0      0      0      0      0      0      0      0   \n",
       "10080           0      0      0      0      0      0      0      0      0   \n",
       "10120           0      0      0      0      0      0      0      0      0   \n",
       "10123C          0      0      0      0      0      0      0      0      0   \n",
       "10124A          0      0      0      0      0      0      0      0      0   \n",
       "\n",
       "CustomerID  12356  ...  18273  18274  18276  18277  18278  18280  18281  \\\n",
       "StockCode          ...                                                    \n",
       "10002           0  ...      0      0      0      0      0      0      0   \n",
       "10080           0  ...      0      0      0      0      0      0      0   \n",
       "10120           0  ...      0      0      0      0      0      0      0   \n",
       "10123C          0  ...      0      0      0      0      0      0      0   \n",
       "10124A          0  ...      0      0      0      0      0      0      0   \n",
       "\n",
       "CustomerID  18282  18283  18287  \n",
       "StockCode                        \n",
       "10002           0      0      0  \n",
       "10080           0      0      0  \n",
       "10120           0      0      0  \n",
       "10123C          0      0      0  \n",
       "10124A          0      0      0  \n",
       "\n",
       "[5 rows x 4338 columns]"
      ]
     },
     "execution_count": 143,
     "metadata": {},
     "output_type": "execute_result"
    }
   ],
   "source": [
    "#Transposing the matrix\n",
    "X = cluster_utility_matrix.T\n",
    "X.head()"
   ]
  },
  {
   "cell_type": "markdown",
   "metadata": {},
   "source": [
    "## Feature reduction\n",
    "As we have a third dimension with the quantity-column, we have to perform a feature reduction. This means we recreate the utility matrix with 2 instead of 3 components. Therefore, we will use SVD (Singular Value Decomposition), which reduces the number of features of a dataset by extracting its latent factors. This mapping facilitates a clear representation of relationships between users and items. "
   ]
  },
  {
   "cell_type": "code",
   "execution_count": 144,
   "metadata": {},
   "outputs": [
    {
     "data": {
      "text/plain": [
       "(3665, 10)"
      ]
     },
     "execution_count": 144,
     "metadata": {},
     "output_type": "execute_result"
    }
   ],
   "source": [
    "#Decomposing the matrix\n",
    "SVD = TruncatedSVD(n_components=10)\n",
    "decomposed_matrix = SVD.fit_transform(X)\n",
    "decomposed_matrix.shape"
   ]
  },
  {
   "cell_type": "markdown",
   "metadata": {},
   "source": [
    "To determine the similarity of users, we will use pearson correlation coefficient and create a correlation matrix. It calculates the correlation between every single customer and all users, who have bought at least one same product like our target user. The correlation with other user's is 0. Once we have these values, we can recommend products based on the purchasing behavior of similar customers."
   ]
  },
  {
   "cell_type": "code",
   "execution_count": 145,
   "metadata": {},
   "outputs": [
    {
     "data": {
      "text/plain": [
       "(3665, 3665)"
      ]
     },
     "execution_count": 145,
     "metadata": {},
     "output_type": "execute_result"
    }
   ],
   "source": [
    "#Correlation Matrix\n",
    "correlation_matrix = np.corrcoef(decomposed_matrix)\n",
    "correlation_matrix.shape"
   ]
  },
  {
   "cell_type": "markdown",
   "metadata": {},
   "source": [
    "## Example\n",
    "We randomly choose one product, which was bought by a customer to see what other products similar users bought and what items we should recommend. "
   ]
  },
  {
   "cell_type": "code",
   "execution_count": 158,
   "metadata": {},
   "outputs": [
    {
     "data": {
      "text/plain": [
       "'17096'"
      ]
     },
     "execution_count": 158,
     "metadata": {},
     "output_type": "execute_result"
    }
   ],
   "source": [
    "#randomly choose a product\n",
    "#save StockCode in Variable\n",
    "i = X.index[99]\n",
    "\n",
    "# Save the chosen product_id in variable\n",
    "product_ID=99\n",
    "\n",
    "#print StockCode\n",
    "print(i)"
   ]
  },
  {
   "cell_type": "code",
   "execution_count": 160,
   "metadata": {},
   "outputs": [
    {
     "data": {
      "text/plain": [
       "(3665,)"
      ]
     },
     "execution_count": 160,
     "metadata": {},
     "output_type": "execute_result"
    }
   ],
   "source": [
    "#correlation of all items with the chosen item/user\n",
    "correlation_product_ID = correlation_matrix[product_ID]\n",
    "correlation_product_ID.shape"
   ]
  },
  {
   "cell_type": "code",
   "execution_count": 161,
   "metadata": {},
   "outputs": [
    {
     "data": {
      "text/plain": [
       "['10135',\n",
       " '15030',\n",
       " '15036',\n",
       " '15039',\n",
       " '15044A',\n",
       " '15044D',\n",
       " '15058C',\n",
       " '16008',\n",
       " '16015']"
      ]
     },
     "execution_count": 161,
     "metadata": {},
     "output_type": "execute_result"
    }
   ],
   "source": [
    "#Rank correlated products for the item in descending order\n",
    "Recommend = list(X.index[correlation_product_ID > 0.90])\n",
    "\n",
    "# Removes the item already bought by the customer\n",
    "Recommend.remove(i) \n",
    "\n",
    "#Print 10 most correlated items\n",
    "Recommend[0:9]"
   ]
  },
  {
   "cell_type": "code",
   "execution_count": 163,
   "metadata": {},
   "outputs": [
    {
     "name": "stdout",
     "output_type": "stream",
     "text": [
      "Product bought:  ASSORTED LAQUERED INCENSE HOLDERS\n",
      "Recommended products: \n",
      "COLOURING PENCILS BROWN TUBE\n",
      "FAN BLACK FRAME \n",
      "ASSORTED COLOURS SILK FAN\n",
      "SANDALWOOD FAN\n",
      "PINK PAPER PARASOL \n",
      "RED PAPER PARASOL\n",
      "ICE CREAM DESIGN GARDEN PARASOL\n",
      "SMALL FOLDING SCISSOR(POINTED EDGE)\n",
      "MEDIUM CHINESE STYLE SCISSOR\n"
     ]
    }
   ],
   "source": [
    "print ('Product bought: ', items['17096'])\n",
    "print ('Recommended products: ')\n",
    "#print product description to StockCodes\n",
    "for x in Recommend[0:9]:\n",
    "    print(items[x])"
   ]
  },
  {
   "cell_type": "markdown",
   "metadata": {},
   "source": [
    "# Conclusion"
   ]
  },
  {
   "cell_type": "markdown",
   "metadata": {},
   "source": [
    "Based on the purchase history of our clients, we were able to build 3 different recommenders to optimise our social media ads. \n",
    "* For the recommender systems to be successful, it is essential, that the recommenders are **connected to current data sources** and update automatically. Only in this way, new products or a change in buying behaviour can be included in the recommendation.\n",
    "* In order to be able to address the customer individually, it is important that we can **clearly identify** him or her. This is the basic requirement for Recommender system 3. \n",
    "* The lack of mapping is known as the cold start problem.  Even if the degree of personalisation is lower, Recommender system 2 and 1 form a solid **fallback solution to counteract this problem**. We can either show customers similar products to those they have already seen or draw their attention to our most popular products."
   ]
  }
 ],
 "metadata": {
  "interpreter": {
   "hash": "b15c7720da7b759ea247867f7a046a661e7079851fa8825d618718437ecce4d3"
  },
  "kernelspec": {
   "display_name": "Python 3.8.8 64-bit ('base': conda)",
   "name": "python3"
  },
  "language_info": {
   "codemirror_mode": {
    "name": "ipython",
    "version": 3
   },
   "file_extension": ".py",
   "mimetype": "text/x-python",
   "name": "python",
   "nbconvert_exporter": "python",
   "pygments_lexer": "ipython3",
   "version": "3.8.8"
  },
  "orig_nbformat": 4
 },
 "nbformat": 4,
 "nbformat_minor": 2
}
