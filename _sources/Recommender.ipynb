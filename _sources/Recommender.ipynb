{
 "cells": [
  {
   "cell_type": "markdown",
   "metadata": {},
   "source": [
    "# Recommender\n",
    "## Plan\n",
    "**Wie können wir die Social Media Ads personalisieren?**\n",
    "\n",
    "Auf Social Media (z.B. in der Instagram Story oder im Facebook Feed) werden aktuell zufällig Produkte als Werbung ausgespielt. Diese Ads sollen personalisiert werden, um deren Performance zu verbessern und den Umsatz durch die Social Media Ads zu steigern. \n",
    "\n",
    "Die Herausforderung ist hierbei, dass Nutzer, die die Werbung sehen, teilweise noch keine aktuellen Kunden sind und auch nicht jeder Kunde identifiziert werden kann. Deswegen müssen verschiedene Recommender erstellt werden, die sich dann automatisch umstellen.\n",
    "\n",
    "![](../bmc_recommender.pdf)"
   ]
  },
  {
   "cell_type": "code",
   "execution_count": 2,
   "metadata": {},
   "outputs": [],
   "source": [
    "import pandas as pd\n",
    "import numpy as np"
   ]
  },
  {
   "cell_type": "markdown",
   "metadata": {},
   "source": [
    "## Data\n",
    "Die Recommender basieren auf dem bereits vorbereiteten Clustering-Datensatz. Darin sind nicht nur Kunden- und Bestellinformationen, sondern auch alle Produkte enthalten. Da der Datensatz durch die Kundensegmentierung bereits bekannt war, war der Aufwand für die explorative Datenanalyse geringer. Je nach Recommender, wurden die Daten unterschiedlich aufbereitet.\n",
    "\n",
    "Der vollständigen Code befindet sich [hier](Recommendation_Marketing.ipynb)."
   ]
  },
  {
   "cell_type": "code",
   "execution_count": 3,
   "metadata": {},
   "outputs": [
    {
     "data": {
      "text/html": [
       "<div>\n",
       "<style scoped>\n",
       "    .dataframe tbody tr th:only-of-type {\n",
       "        vertical-align: middle;\n",
       "    }\n",
       "\n",
       "    .dataframe tbody tr th {\n",
       "        vertical-align: top;\n",
       "    }\n",
       "\n",
       "    .dataframe thead th {\n",
       "        text-align: right;\n",
       "    }\n",
       "</style>\n",
       "<table border=\"1\" class=\"dataframe\">\n",
       "  <thead>\n",
       "    <tr style=\"text-align: right;\">\n",
       "      <th></th>\n",
       "      <th>CustomerID</th>\n",
       "      <th>InvoiceNo</th>\n",
       "      <th>StockCode</th>\n",
       "      <th>Description</th>\n",
       "      <th>Quantity</th>\n",
       "      <th>InvoiceDate</th>\n",
       "      <th>UnitPrice</th>\n",
       "      <th>Country</th>\n",
       "      <th>TotalSum</th>\n",
       "      <th>Cluster</th>\n",
       "    </tr>\n",
       "  </thead>\n",
       "  <tbody>\n",
       "    <tr>\n",
       "      <th>0</th>\n",
       "      <td>12346</td>\n",
       "      <td>541431</td>\n",
       "      <td>23166</td>\n",
       "      <td>MEDIUM CERAMIC TOP STORAGE JAR</td>\n",
       "      <td>74215</td>\n",
       "      <td>2011-01-18 10:01:00</td>\n",
       "      <td>1.04</td>\n",
       "      <td>United Kingdom</td>\n",
       "      <td>77183.6</td>\n",
       "      <td>NaN</td>\n",
       "    </tr>\n",
       "    <tr>\n",
       "      <th>1</th>\n",
       "      <td>12347</td>\n",
       "      <td>537626</td>\n",
       "      <td>85116</td>\n",
       "      <td>BLACK CANDELABRA T-LIGHT HOLDER</td>\n",
       "      <td>12</td>\n",
       "      <td>2010-12-07 14:57:00</td>\n",
       "      <td>2.10</td>\n",
       "      <td>Iceland</td>\n",
       "      <td>25.2</td>\n",
       "      <td>2.0</td>\n",
       "    </tr>\n",
       "    <tr>\n",
       "      <th>2</th>\n",
       "      <td>12347</td>\n",
       "      <td>537626</td>\n",
       "      <td>22375</td>\n",
       "      <td>AIRLINE BAG VINTAGE JET SET BROWN</td>\n",
       "      <td>4</td>\n",
       "      <td>2010-12-07 14:57:00</td>\n",
       "      <td>4.25</td>\n",
       "      <td>Iceland</td>\n",
       "      <td>17.0</td>\n",
       "      <td>2.0</td>\n",
       "    </tr>\n",
       "    <tr>\n",
       "      <th>3</th>\n",
       "      <td>12347</td>\n",
       "      <td>537626</td>\n",
       "      <td>71477</td>\n",
       "      <td>COLOUR GLASS. STAR T-LIGHT HOLDER</td>\n",
       "      <td>12</td>\n",
       "      <td>2010-12-07 14:57:00</td>\n",
       "      <td>3.25</td>\n",
       "      <td>Iceland</td>\n",
       "      <td>39.0</td>\n",
       "      <td>2.0</td>\n",
       "    </tr>\n",
       "    <tr>\n",
       "      <th>4</th>\n",
       "      <td>12347</td>\n",
       "      <td>537626</td>\n",
       "      <td>22492</td>\n",
       "      <td>MINI PAINT SET VINTAGE</td>\n",
       "      <td>36</td>\n",
       "      <td>2010-12-07 14:57:00</td>\n",
       "      <td>0.65</td>\n",
       "      <td>Iceland</td>\n",
       "      <td>23.4</td>\n",
       "      <td>2.0</td>\n",
       "    </tr>\n",
       "  </tbody>\n",
       "</table>\n",
       "</div>"
      ],
      "text/plain": [
       "   CustomerID  InvoiceNo StockCode                        Description  \\\n",
       "0       12346     541431     23166     MEDIUM CERAMIC TOP STORAGE JAR   \n",
       "1       12347     537626     85116    BLACK CANDELABRA T-LIGHT HOLDER   \n",
       "2       12347     537626     22375  AIRLINE BAG VINTAGE JET SET BROWN   \n",
       "3       12347     537626     71477  COLOUR GLASS. STAR T-LIGHT HOLDER   \n",
       "4       12347     537626     22492            MINI PAINT SET VINTAGE    \n",
       "\n",
       "   Quantity          InvoiceDate  UnitPrice         Country  TotalSum  Cluster  \n",
       "0     74215  2011-01-18 10:01:00       1.04  United Kingdom   77183.6      NaN  \n",
       "1        12  2010-12-07 14:57:00       2.10         Iceland      25.2      2.0  \n",
       "2         4  2010-12-07 14:57:00       4.25         Iceland      17.0      2.0  \n",
       "3        12  2010-12-07 14:57:00       3.25         Iceland      39.0      2.0  \n",
       "4        36  2010-12-07 14:57:00       0.65         Iceland      23.4      2.0  "
      ]
     },
     "execution_count": 3,
     "metadata": {},
     "output_type": "execute_result"
    }
   ],
   "source": [
    "df = pd.read_csv('../Recommender_Marketing.csv', delimiter=',', encoding = 'unicode_escape')\n",
    "df.head()"
   ]
  },
  {
   "cell_type": "code",
   "execution_count": 4,
   "metadata": {},
   "outputs": [
    {
     "name": "stdout",
     "output_type": "stream",
     "text": [
      "Total number of orders: 18532\n",
      "Total number of users: 4338\n",
      "Total number of products: 3665\n"
     ]
    }
   ],
   "source": [
    "print(\"Total number of orders:\", len(np.unique(df['InvoiceNo'])))\n",
    "print(\"Total number of users:\", len(np.unique(df['CustomerID'])))\n",
    "print(\"Total number of products:\", len(np.unique(df['StockCode'])))"
   ]
  },
  {
   "cell_type": "markdown",
   "metadata": {},
   "source": [
    "## Model\n",
    "Abhängig davon, ob ein Kunde identifiziert werden konnte und ob wir bereits Informationen über ihn sammeln konnten, wurden drei verschiedene Recommender entwickelt.\n",
    "\n",
    "* Recommender 1: Beliebteste Produkte (Unbekannter Nutzer, keine Kaufhistorie)\n",
    "* Recommender 2: Content-based filtering (Bekannter Nutzer, keine Kaufhistorie/nur Views)\n",
    "* Recommender 3: Collaborative filtering (Bekannter Nutzer, Kaufhistorie)"
   ]
  },
  {
   "cell_type": "markdown",
   "metadata": {},
   "source": [
    "### Recommender 1: Top 25 der beliebtesten Produkte\n",
    "Dieser Recommender hat den geringsten Personalisierungsgrad. Dennoch ist es ein Fortschritt im Vergleich zu einer zufälligen Produktauswahl. Die Produkte werden basierend auf ihrem Absatz geordnet und die 25 besten Produkte werden dem Kunden angeboten.\n",
    "\n",
    "![](../popular.png)"
   ]
  },
  {
   "cell_type": "markdown",
   "metadata": {},
   "source": [
    "### Recommender 2: Content-based Filtering\n",
    "Ziel dieses Recommender Systems ist es, einem Kunden, der bereits auf unsere Anzeigen reagiert hat, ähnliche Produkte zu dem von ihm angesehenen Produkt anzuzeigen. Dafür nutzen wir Content-based Filtering, d.h. wir vergleichen die Beschreibung der Produkte und finden Ähnlichkeiten. Dafür nutzen wir eine Tfidf-Matrix. Diese teilt die Beschreibung jedes Produkts in einzelne Wörter und gewichtet die Tokens abhängig von ihrer Frequenz. So kann jedes Produkt mit allen anderen verglichen und jeweils ein Score ermittelt werden, wie ähnlich die beiden Produkte sind. Abschließend werden die Produkte in absteigender Score-Reihenfolge geordnet und die Produkte mit dem höchsten Score können als Ad ausgespielt werden.\n",
    "\n",
    "Die Herausforderung war hierbei, dass die Produktbeschreibungen auch Satzzeichen enthielten und Synonyme verwendeten."
   ]
  },
  {
   "cell_type": "markdown",
   "metadata": {},
   "source": [
    "### Recommender 3: Collaborative Filtering\n",
    "Dieser Recommender hat den höchsten Personalisierungsgrad, da wir den Kunden identifizieren und seiner Bestellhistorie zuordnen können. Der Kunde wird bei diesem Recommender mit ähnlichen Nutzern verglichen und es werden ihm Produkte angezeigt, die ähnliche Nutzer gekauft haben. Hier spielt neben der Kunden- und Product-ID auch die Bestellmenge eine Rolle, die Aufschluss darüber gibt, wie gut einem Kunden das Produkt gefällt. Nach einer Feature Reduction kann wiederum eine Korrelationsmatrix ermittelt und ein Ähnlichkeitsscore definiert werden. Anhand dessen können wieder die Produkte mit dem höchsten Score als Ad ausgespielt werden."
   ]
  },
  {
   "cell_type": "markdown",
   "metadata": {},
   "source": [
    "## Evaluation\n",
    "Der Aufbau der Recommender erfolgte exemplarisch auf Basis eines statischen Datensatzes. Damit die Recommender erfolgreich sind, ist es wichtig, diese an die aktuelle Datenquelle anzubinden. Da sich Kundeninteressen und das Sortiment stetig verändern, ist es wichtig, die Recommender nicht auf einer statischen Datenbasis zu betreiben.\n",
    "\n",
    "Auch wenn Recommender 3 den höchsten Personalisierungsgrad hat, bieten Recommender 1 und 2 eine gute Fallbacklösung. Deswegen ist das Zusammenspiel der Recommender besonders wichtig. Abhängig davon, welche Informationen über einen Nutzer vorliegen, muss beim Deployment entschieden werden, welcher Recommender genutzt wird."
   ]
  }
 ],
 "metadata": {
  "kernelspec": {
   "display_name": "Python 3",
   "language": "python",
   "name": "python3"
  },
  "language_info": {
   "codemirror_mode": {
    "name": "ipython",
    "version": 3
   },
   "file_extension": ".py",
   "mimetype": "text/x-python",
   "name": "python",
   "nbconvert_exporter": "python",
   "pygments_lexer": "ipython3",
   "version": "3.7.11"
  },
  "widgets": {
   "application/vnd.jupyter.widget-state+json": {
    "state": {},
    "version_major": 2,
    "version_minor": 0
   }
  }
 },
 "nbformat": 4,
 "nbformat_minor": 4
}
